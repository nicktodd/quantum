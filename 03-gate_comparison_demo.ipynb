{
 "cells": [
  {
   "cell_type": "markdown",
   "id": "3875aff3",
   "metadata": {},
   "source": [
    "# Normal vs Controlled Gates Demonstration\n",
    "\n",
    "This notebook demonstrates the difference between normal Pauli gates (X, Y, Z) and their controlled versions (CX, CY, CZ)."
   ]
  },
  {
   "cell_type": "code",
   "execution_count": null,
   "id": "e835ab3b",
   "metadata": {},
   "outputs": [],
   "source": [
    "from qiskit import QuantumCircuit\n",
    "from qiskit_aer import Aer\n",
    "from qiskit.visualization import plot_histogram\n",
    "import matplotlib.pyplot as plt\n",
    "import numpy as np"
   ]
  },
  {
   "cell_type": "markdown",
   "id": "b3bfb5d4",
   "metadata": {},
   "source": [
    "## 1. Normal X Gate vs Controlled-X (CNOT)\n",
    "\n",
    "Let's compare how a normal X gate and a controlled-X gate behave."
   ]
  },
  {
   "cell_type": "code",
   "execution_count": null,
   "id": "0a1990b0",
   "metadata": {},
   "outputs": [],
   "source": [
    "# Normal X gate - always flips the qubit\n",
    "print(\"Normal X Gate:\")\n",
    "qc_x = QuantumCircuit(1, 1)\n",
    "qc_x.x(0)  # Apply X gate\n",
    "qc_x.measure(0, 0)\n",
    "print(\"Circuit:\")\n",
    "display(qc_x.draw('mpl'))\n",
    "\n",
    "# Run the circuit\n",
    "backend = Aer.get_backend('qasm_simulator')\n",
    "result = backend.run(qc_x, shots=1000).result()\n",
    "counts = result.get_counts()\n",
    "print(f\"Results: {counts}\")\n",
    "print(\"The X gate always flips |0⟩ to |1⟩\\n\")"
   ]
  },
  {
   "cell_type": "code",
   "execution_count": null,
   "id": "0db3fe9a",
   "metadata": {},
   "outputs": [],
   "source": [
    "# Controlled-X (CNOT) gate - only flips when control is |1⟩\n",
    "print(\"Controlled-X (CNOT) Gate with control=0:\")\n",
    "qc_cx1 = QuantumCircuit(2, 2)\n",
    "# Control qubit starts in |0⟩, target starts in |0⟩\n",
    "qc_cx1.cx(0, 1)  # Apply CNOT with qubit 0 as control, qubit 1 as target\n",
    "qc_cx1.measure([0, 1], [0, 1])\n",
    "print(\"Circuit (control=|0⟩):\")\n",
    "display(qc_cx1.draw('mpl'))\n",
    "\n",
    "result1 = backend.run(qc_cx1, shots=1000).result()\n",
    "counts1 = result1.get_counts()\n",
    "print(f\"Results: {counts1}\")\n",
    "print(\"Since control=|0⟩, target remains unchanged (|00⟩)\\n\")\n",
    "\n",
    "print(\"Controlled-X (CNOT) Gate with control=1:\")\n",
    "qc_cx2 = QuantumCircuit(2, 2)\n",
    "qc_cx2.x(0)  # Put control qubit in |1⟩ state\n",
    "qc_cx2.cx(0, 1)  # Apply CNOT\n",
    "qc_cx2.measure([0, 1], [0, 1])\n",
    "print(\"Circuit (control=|1⟩):\")\n",
    "display(qc_cx2.draw('mpl'))\n",
    "\n",
    "result2 = backend.run(qc_cx2, shots=1000).result()\n",
    "counts2 = result2.get_counts()\n",
    "print(f\"Results: {counts2}\")\n",
    "print(\"Since control=|1⟩, target gets flipped (|10⟩ → |11⟩)\")"
   ]
  },
  {
   "cell_type": "markdown",
   "id": "2e651ea5",
   "metadata": {},
   "source": [
    "## 2. Normal Z Gate vs Controlled-Z\n",
    "\n",
    "The Z gate adds a phase flip. Let's see how the controlled version works."
   ]
  },
  {
   "cell_type": "code",
   "execution_count": null,
   "id": "9be33886",
   "metadata": {},
   "outputs": [],
   "source": [
    "# Normal Z gate on superposition\n",
    "print(\"Normal Z Gate on superposition:\")\n",
    "qc_z = QuantumCircuit(1, 1)\n",
    "qc_z.h(0)  # Create superposition\n",
    "qc_z.z(0)  # Apply Z gate\n",
    "qc_z.h(0)  # Hadamard to see the phase effect\n",
    "qc_z.measure(0, 0)\n",
    "print(\"Circuit:\")\n",
    "display(qc_z.draw('mpl'))\n",
    "\n",
    "result_z = backend.run(qc_z, shots=1000).result()\n",
    "counts_z = result_z.get_counts()\n",
    "print(f\"Results: {counts_z}\")\n",
    "print(\"The Z gate flipped the phase, causing the final measurement to be |1⟩\\n\")"
   ]
  },
  {
   "cell_type": "code",
   "execution_count": null,
   "id": "a0a17bfd",
   "metadata": {},
   "outputs": [],
   "source": [
    "# Controlled-Z gate\n",
    "print(\"Controlled-Z Gate - testing all input combinations:\")\n",
    "\n",
    "# Test case 1: |00⟩\n",
    "qc_cz1 = QuantumCircuit(2, 2)\n",
    "qc_cz1.cz(0, 1)\n",
    "qc_cz1.measure([0, 1], [0, 1])\n",
    "result_cz1 = backend.run(qc_cz1, shots=1000).result()\n",
    "print(f\"|00⟩ → {result_cz1.get_counts()}\")\n",
    "\n",
    "# Test case 2: |01⟩\n",
    "qc_cz2 = QuantumCircuit(2, 2)\n",
    "qc_cz2.x(1)  # Put target in |1⟩\n",
    "qc_cz2.cz(0, 1)\n",
    "qc_cz2.measure([0, 1], [0, 1])\n",
    "result_cz2 = backend.run(qc_cz2, shots=1000).result()\n",
    "print(f\"|01⟩ → {result_cz2.get_counts()}\")\n",
    "\n",
    "# Test case 3: |10⟩\n",
    "qc_cz3 = QuantumCircuit(2, 2)\n",
    "qc_cz3.x(0)  # Put control in |1⟩\n",
    "qc_cz3.cz(0, 1)\n",
    "qc_cz3.measure([0, 1], [0, 1])\n",
    "result_cz3 = backend.run(qc_cz3, shots=1000).result()\n",
    "print(f\"|10⟩ → {result_cz3.get_counts()}\")\n",
    "\n",
    "# Test case 4: |11⟩ (this is where the phase flip happens)\n",
    "qc_cz4 = QuantumCircuit(2, 2)\n",
    "qc_cz4.x([0, 1])  # Put both in |1⟩\n",
    "qc_cz4.cz(0, 1)\n",
    "qc_cz4.measure([0, 1], [0, 1])\n",
    "result_cz4 = backend.run(qc_cz4, shots=1000).result()\n",
    "print(f\"|11⟩ → {result_cz4.get_counts()}\")\n",
    "\n",
    "print(\"\\nNote: CZ gate doesn't change measurement outcomes, only phases!\")\n",
    "print(\"The phase effect would be visible in interference experiments.\")"
   ]
  },
  {
   "cell_type": "markdown",
   "id": "83438d0b",
   "metadata": {},
   "source": [
    "## 3. Key Differences Summary\n",
    "\n",
    "| Gate Type | Qubits | Action | Condition |\n",
    "|-----------|--------|--------|----------|\n",
    "| X | 1 | Always flips bit | None |\n",
    "| CX (CNOT) | 2 | Flips target bit | Only if control = \\|1⟩ |\n",
    "| Y | 1 | Always flips bit + phase | None |\n",
    "| CY | 2 | Flips target bit + phase | Only if control = \\|1⟩ |\n",
    "| Z | 1 | Always flips phase | None |\n",
    "| CZ | 2 | Flips phase | Only if both qubits = \\|1⟩ |\n",
    "\n",
    "## 4. Applications\n",
    "\n",
    "- **Normal gates**: Basic quantum operations, single-qubit rotations\n",
    "- **Controlled gates**: Creating entanglement, conditional operations, building complex algorithms like Grover's\n",
    "\n",
    "In Grover's algorithm, you saw CZ being used as an oracle to mark the |11⟩ state by adding a phase flip only when both qubits are in state |1⟩."
   ]
  }
 ],
 "metadata": {
  "language_info": {
   "name": "python"
  }
 },
 "nbformat": 4,
 "nbformat_minor": 5
}
