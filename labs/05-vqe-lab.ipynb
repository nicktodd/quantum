{
 "cells": [
  {
   "cell_type": "markdown",
   "id": "efa8ed00",
   "metadata": {},
   "source": [
    "# Applied Quantum Computing Lab: Variational Quantum Eigensolver (VQE)\n",
    "\n",
    "The Variational Quantum Eigensolver (VQE) is a hybrid quantum-classical algorithm designed to find the ground state energy of a molecule or a Hamiltonian system. It's one of the most promising algorithms for near-term quantum computers due to its ability to work with noisy, limited-resource quantum hardware.\n",
    "\n",
    "## Prerequisites\n",
    "- Basic understanding of quantum gates and circuits\n",
    "- Familiarity with Python and Qiskit\n",
    "- Basic knowledge of linear algebra and quantum mechanics\n",
    "\n",
    "## Learning Objectives\n",
    "By completing this lab, you will:\n",
    "1. Understand the principles of the VQE algorithm\n",
    "2. Implement a VQE circuit for a simple Hamiltonian\n",
    "3. Optimize the quantum circuit parameters using classical optimization\n",
    "4. Analyze the results and understand the quantum advantage in chemistry applications\n",
    "\n",
    "## Introduction\n",
    "\n",
    "### How VQE Works\n",
    "\n",
    "1. **Prepare a parameterized quantum state**: Create a quantum circuit with adjustable parameters\n",
    "2. **Measure the energy**: Use the quantum computer to measure the expectation value of the Hamiltonian\n",
    "3. **Update parameters**: Use a classical optimizer to find parameters that minimize the energy\n",
    "4. **Iterate**: Repeat until convergence\n",
    "\n",
    "In this lab, we'll implement VQE to find the ground state energy of a simple Hamiltonian using Qiskit 2.\n"
   ]
  },
  {
   "cell_type": "code",
   "execution_count": null,
   "id": "7ee53139",
   "metadata": {},
   "outputs": [],
   "source": [
    "# Import required libraries\n",
    "import numpy as np\n",
    "from qiskit import QuantumCircuit\n",
    "from qiskit_aer import AerSimulator\n",
    "from qiskit.quantum_info import SparsePauliOp\n",
    "\n",
    "# For visualization\n",
    "import matplotlib.pyplot as plt\n",
    "%matplotlib inline"
   ]
  },
  {
   "cell_type": "markdown",
   "id": "5c6e6027",
   "metadata": {},
   "source": [
    "## Exercise 1: Creating a Hamiltonian\n",
    "\n",
    "The Hamiltonian is the energy operator of our system. For this example, we'll use a simple 2-qubit Hamiltonian that represents the interactions in a toy molecular system. In Qiskit 2, we can represent this using `SparsePauliOp`."
   ]
  },
  {
   "cell_type": "code",
   "execution_count": null,
   "id": "97035621",
   "metadata": {},
   "outputs": [],
   "source": [
    "# Define a simple 2-qubit Hamiltonian\n",
    "# H = Z₀⊗I₁ + I₀⊗Z₁ + 0.5 X₀⊗X₁\n",
    "# This represents a simplified Ising model\n",
    "\n",
    "# YOUR CODE HERE: Create the Hamiltonian using SparsePauliOp with the appropriate Pauli strings and coefficients\n",
    "\n",
    "\n",
    "print(\"Hamiltonian:\")\n",
    "print(hamiltonian)  # This should display your Hamiltonian"
   ]
  },
  {
   "cell_type": "markdown",
   "id": "1a11566e",
   "metadata": {},
   "source": [
    "## Exercise 2: Variational Form (Ansatz)\n",
    "\n",
    "The ansatz is a parameterized quantum circuit that prepares a trial state. The goal is to find the parameters that minimize the energy. We'll use a simple ansatz with rotation gates and entangling operations."
   ]
  },
  {
   "cell_type": "code",
   "execution_count": null,
   "id": "36fb029f",
   "metadata": {},
   "outputs": [],
   "source": [
    "# Create a parameterized ansatz with rotation gates and entanglement\n",
    "def create_ansatz(parameters):\n",
    "    \"\"\"Create a parameterized quantum circuit.\n",
    "    \n",
    "    Args:\n",
    "        parameters (list): List of 6 parameters for the circuit\n",
    "    \n",
    "    Returns:\n",
    "        QuantumCircuit: The parameterized quantum circuit\n",
    "    \"\"\"\n",
    "    # YOUR CODE HERE: Create a 2-qubit quantum circuit with:\n",
    "    # - First layer of rotation gates (Rx and Ry) on both qubits\n",
    "    # - Entangling layer (CNOT gate)\n",
    "    # - Second layer of rotation gates (Rx) on both qubits\n",
    "    \n",
    "    qc = QuantumCircuit(2)\n",
    "    \n",
    "    # First layer of rotations\n",
    "    \n",
    "    \n",
    "    # Entangling layer\n",
    "    \n",
    "    \n",
    "    # Second layer of rotations\n",
    "    \n",
    "    \n",
    "    return qc\n",
    "\n",
    "# Visualize the ansatz with some random parameters\n",
    "initial_params = [0.1, 0.2, 0.3, 0.4, 0.5, 0.6]\n",
    "ansatz = create_ansatz(initial_params)\n",
    "print(\"Sample ansatz circuit:\")\n",
    "print(ansatz.draw())"
   ]
  },
  {
   "cell_type": "markdown",
   "id": "febe57ee",
   "metadata": {},
   "source": [
    "## Exercise 3: Energy Calculation\n",
    "\n",
    "For each set of parameters, we need to calculate the expectation value of the Hamiltonian. This is done by preparing the state defined by our ansatz and measuring the energy using our Hamiltonian."
   ]
  },
  {
   "cell_type": "code",
   "execution_count": null,
   "id": "ba4d15e0",
   "metadata": {},
   "outputs": [],
   "source": [
    "# Function to calculate the expectation value of the Hamiltonian\n",
    "def calculate_energy(parameters):\n",
    "    \"\"\"Calculate the expectation value of the Hamiltonian for given parameters.\n",
    "    \n",
    "    Args:\n",
    "        parameters (list): Ansatz parameters\n",
    "    \n",
    "    Returns:\n",
    "        float: Expected energy\n",
    "    \"\"\"\n",
    "    # YOUR CODE HERE: Create the ansatz circuit with current parameters\n",
    "    \n",
    "    # YOUR CODE HERE: Configure the simulator to return the statevector\n",
    "    \n",
    "    # YOUR CODE HERE: Run the circuit to get the statevector\n",
    "    \n",
    "    # YOUR CODE HERE: Calculate the expectation value of the Hamiltonian\n",
    "    \n",
    "    return None  # Replace with your calculated energy value\n",
    "\n",
    "# Test the energy calculation with initial parameters\n",
    "energy = calculate_energy(initial_params)\n",
    "print(f\"Energy with initial parameters: {energy:.6f}\")"
   ]
  },
  {
   "cell_type": "markdown",
   "id": "fcf1fa3a",
   "metadata": {},
   "source": [
    "## Exercise 4: Classical Optimization\n",
    "\n",
    "Now we'll use a classical optimizer to find the parameters that minimize the energy. We'll use the COBYLA optimizer from scipy, which is a gradient-free optimization method."
   ]
  },
  {
   "cell_type": "code",
   "execution_count": null,
   "id": "d5ca8ac1",
   "metadata": {},
   "outputs": [],
   "source": [
    "# Perform the optimization using scipy's minimize function\n",
    "from scipy.optimize import minimize\n",
    "\n",
    "# Function to minimize\n",
    "def objective_function(parameters):\n",
    "    return calculate_energy(parameters)\n",
    "\n",
    "# Initial parameters\n",
    "initial_params = np.random.random(6) * 2 * np.pi\n",
    "\n",
    "# Keep track of energy values during optimization\n",
    "energy_values = []\n",
    "\n",
    "# Callback function to track optimization progress\n",
    "def callback(params):\n",
    "    energy = objective_function(params)\n",
    "    energy_values.append(energy)\n",
    "    if len(energy_values) % 5 == 0:  # Print every 5 iterations\n",
    "        print(f\"Iteration {len(energy_values)}: Energy = {energy:.6f}\")\n",
    "\n",
    "# YOUR CODE HERE: Run the optimizer using minimize function with:\n",
    "# - The objective function\n",
    "# - Initial parameters\n",
    "# - Method='COBYLA'\n",
    "# - The callback function\n",
    "# - Max iterations of 100\n",
    "\n",
    "\n",
    "# Print results\n",
    "print(\"\\nOptimization complete!\")\n",
    "print(f\"Final energy: {result.fun:.6f}\")\n",
    "print(f\"Optimal parameters: {result.x}\")"
   ]
  },
  {
   "cell_type": "markdown",
   "id": "5826ce7f",
   "metadata": {},
   "source": [
    "## Exercise 5: Results Visualization\n",
    "\n",
    "Let's visualize the convergence of the energy during the optimization process."
   ]
  },
  {
   "cell_type": "code",
   "execution_count": null,
   "id": "4e68c1ef",
   "metadata": {},
   "outputs": [],
   "source": [
    "# YOUR CODE HERE: Plot the energy convergence\n",
    "# Create a figure with proper labels for axes and a title\n",
    "# Plot energy_values vs. iteration number\n",
    "\n"
   ]
  },
  {
   "cell_type": "markdown",
   "id": "5a58f534",
   "metadata": {},
   "source": [
    "## Exercise 6: Final Optimized Circuit\n",
    "\n",
    "Let's visualize the circuit with the optimized parameters and calculate the probabilities of measuring different states."
   ]
  },
  {
   "cell_type": "code",
   "execution_count": null,
   "id": "33a8d0af",
   "metadata": {},
   "outputs": [],
   "source": [
    "# YOUR CODE HERE: Create and display the final circuit with optimized parameters\n",
    "\n",
    "# YOUR CODE HERE: Add measurements to the circuit\n",
    "\n",
    "# YOUR CODE HERE: Run the circuit with multiple shots (1000) and get counts\n",
    "\n",
    "# YOUR CODE HERE: Display the measurement probabilities\n",
    "\n",
    "\n",
    "# Visualize the results as a bar chart\n",
    "# YOUR CODE HERE: Create a bar chart showing the probabilities of different states\n"
   ]
  },
  {
   "cell_type": "markdown",
   "id": "4ada4a5c",
   "metadata": {},
   "source": [
    "## Exercise 7: Analyzing the Ground State\n",
    "\n",
    "Let's analyze the ground state that we've found through the VQE algorithm."
   ]
  },
  {
   "cell_type": "code",
   "execution_count": null,
   "id": "f8d9212a",
   "metadata": {},
   "outputs": [],
   "source": [
    "# YOUR CODE HERE: Calculate the statevector of the optimized circuit\n",
    "# (without measurements)\n",
    "\n",
    "# YOUR CODE HERE: Print the statevector elements and their probabilities\n",
    "\n",
    "# If we know the exact ground state for our Hamiltonian, we can calculate the fidelity\n",
    "# For our simple Hamiltonian, the ground state may be analytically known\n",
    "# YOUR CODE HERE: Calculate and print the fidelity if the exact ground state is known\n"
   ]
  },
  {
   "cell_type": "markdown",
   "id": "b6e969a7",
   "metadata": {},
   "source": [
    "## Challenge Exercise: Different Ansatz Structures\n",
    "\n",
    "Try implementing different ansatz structures and compare their performance:\n",
    "\n",
    "1. A simpler ansatz with fewer parameters\n",
    "2. A more complex ansatz with more entangling gates\n",
    "3. A hardware-efficient ansatz that follows a specific topology\n",
    "\n",
    "How does the choice of ansatz affect the final energy and the optimization process?"
   ]
  },
  {
   "cell_type": "code",
   "execution_count": null,
   "id": "f31a62ad",
   "metadata": {},
   "outputs": [],
   "source": [
    "# YOUR CODE HERE: Implement alternate ansatz designs and compare results\n"
   ]
  },
  {
   "cell_type": "markdown",
   "id": "2627083a",
   "metadata": {},
   "source": [
    "## Reflection Questions\n",
    "\n",
    "1. How does the VQE algorithm combine quantum and classical computing? What is the advantage of this hybrid approach?\n",
    "\n",
    "2. Why is VQE particularly well-suited for near-term quantum computers with limited qubits and relatively high noise?\n",
    "\n",
    "3. How would the number of required qubits scale for simulating real molecular systems compared to classical computational chemistry methods?\n",
    "\n",
    "4. What are some practical challenges in scaling VQE to larger molecular systems?"
   ]
  },
  {
   "cell_type": "markdown",
   "id": "52d68859",
   "metadata": {},
   "source": [
    "## Conclusion\n",
    "\n",
    "In this lab, you've implemented the VQE algorithm to find the ground state energy of a simple 2-qubit Hamiltonian. The key steps included:\n",
    "\n",
    "1. Defining a Hamiltonian representing our system\n",
    "2. Creating a parameterized quantum circuit (ansatz)\n",
    "3. Calculating the energy expectation value for a given set of parameters\n",
    "4. Using classical optimization to find the parameters that minimize the energy\n",
    "5. Analyzing and visualizing the results\n",
    "\n",
    "VQE is particularly important for quantum chemistry applications, where it can be used to calculate molecular properties more efficiently than classical methods for complex molecules. As quantum hardware improves, VQE can be applied to increasingly complex systems.\n",
    "\n",
    "## References\n",
    "\n",
    "1. Peruzzo, A. et al. (2014). A variational eigenvalue solver on a photonic quantum processor. Nature Communications, 5, 4213.\n",
    "2. [Qiskit Documentation on VQE](https://qiskit.org/documentation/tutorials/algorithms/03_vqe.html)\n",
    "3. McArdle, S. et al. (2020). Quantum computational chemistry. Reviews of Modern Physics, 92(1), 015003."
   ]
  }
 ],
 "metadata": {
  "language_info": {
   "name": "python"
  }
 },
 "nbformat": 4,
 "nbformat_minor": 5
}
