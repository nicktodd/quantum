{
 "cells": [
  {
   "cell_type": "markdown",
   "id": "725082b8",
   "metadata": {},
   "source": [
    "# Lab 02: CNOT Gate and Bell State\n",
    "\n",
    "In this lab, you will explore the Controlled-NOT (CNOT) gate and how it can be combined with the Hadamard gate to create quantum entanglement and Bell states. These concepts are fundamental to quantum computing and are used in many quantum algorithms and protocols.\n",
    "\n",
    "## Learning Objectives\n",
    "After completing this lab, you should be able to:\n",
    "1. Understand and implement the CNOT gate\n",
    "2. Create and measure Bell states\n",
    "3. Verify quantum entanglement through measurement results\n",
    "4. Extend Bell states to more complex quantum circuits\n",
    "5. Understand the significance of entanglement in quantum computing\n",
    "\n",
    "## Prerequisites\n",
    "- Basic understanding of quantum gates (specifically the Hadamard gate)\n",
    "- Familiarity with creating simple quantum circuits\n",
    "- Experience with measuring quantum states and interpreting results"
   ]
  },
  {
   "cell_type": "markdown",
   "id": "68094232",
   "metadata": {},
   "source": [
    "## Exercise 1: Setup and Environment Preparation\n",
    "\n",
    "First, let's import the necessary libraries and set up our quantum environment."
   ]
  },
  {
   "cell_type": "code",
   "execution_count": null,
   "id": "a00d1d8a",
   "metadata": {},
   "outputs": [],
   "source": [
    "# Import necessary libraries\n",
    "from qiskit import QuantumCircuit, transpile\n",
    "from qiskit_aer import Aer\n",
    "from qiskit.visualization import plot_histogram\n",
    "import matplotlib.pyplot as plt\n",
    "\n",
    "# Enable inline plotting\n",
    "%matplotlib inline"
   ]
  },
  {
   "cell_type": "markdown",
   "id": "e010d917",
   "metadata": {},
   "source": [
    "## Exercise 2: Understanding the CNOT Gate\n",
    "\n",
    "The Controlled-NOT (CNOT) gate is a two-qubit gate with one control qubit and one target qubit. It applies an X gate (NOT operation) on the target qubit only if the control qubit is in the state |1⟩.\n",
    "\n",
    "Truth table for CNOT gate:\n",
    "\n",
    "| Input | Output |\n",
    "|-------|--------|\n",
    "| $\\|00\\rangle$  | $\\|00\\rangle$  |\n",
    "| $\\|01\\rangle$  | $\\|01\\rangle$  |\n",
    "| $\\|10\\rangle$  | $\\|11\\rangle$  |\n",
    "| $\\|11\\rangle$  | $\\|10\\rangle$  |\n",
    "\n",
    "**Task**: Create a quantum circuit with two qubits. Apply the CNOT gate with qubit 0 as the control qubit and qubit 1 as the target qubit. Visualize the circuit."
   ]
  },
  {
   "cell_type": "code",
   "execution_count": null,
   "id": "582f0b94",
   "metadata": {},
   "outputs": [],
   "source": [
    "# YOUR CODE HERE: Create a quantum circuit with 2 qubits\n",
    "\n",
    "\n",
    "# YOUR CODE HERE: Apply the CNOT gate with qubit 0 as control and qubit 1 as target\n",
    "\n",
    "\n",
    "# YOUR CODE HERE: Visualize the circuit"
   ]
  },
  {
   "cell_type": "markdown",
   "id": "afd7fa70",
   "metadata": {},
   "source": [
    "### Understanding the CNOT Circuit\n",
    "\n",
    "In the circuit you created, nothing interesting happens yet because both qubits start in the state |0⟩. The CNOT gate only flips the target qubit if the control qubit is |1⟩.\n",
    "\n",
    "## Exercise 3: CNOT with Initial States\n",
    "\n",
    "Let's explore how the CNOT gate behaves with different initial states of the control qubit.\n",
    "\n",
    "**Task**: Create a circuit where the control qubit is initialized to state |1⟩ before applying the CNOT gate."
   ]
  },
  {
   "cell_type": "code",
   "execution_count": null,
   "id": "ecf23c99",
   "metadata": {},
   "outputs": [],
   "source": [
    "# Create a quantum circuit with 2 qubits and 2 classical bits for measurement\n",
    "qc = QuantumCircuit(2, 2)\n",
    "\n",
    "# YOUR CODE HERE: Apply X gate to the control qubit (qubit 0) to set it to |1⟩\n",
    "\n",
    "\n",
    "# YOUR CODE HERE: Apply the CNOT gate\n",
    "\n",
    "\n",
    "# YOUR CODE HERE: Measure both qubits\n",
    "\n",
    "\n",
    "# Visualize the circuit\n",
    "qc.draw('mpl')\n",
    "\n",
    "# Run the circuit on a simulator and get the results\n",
    "# YOUR CODE HERE: Run the circuit on the qasm_simulator and plot the results\n"
   ]
  },
  {
   "cell_type": "markdown",
   "id": "b317b207",
   "metadata": {},
   "source": [
    "### Analysis\n",
    "\n",
    "In this circuit, we expect to see measurement results of |11⟩ because:\n",
    "1. We set the control qubit (qubit 0) to |1⟩ using the X gate\n",
    "2. The CNOT gate flips the target qubit (qubit 1) because the control qubit is |1⟩\n",
    "3. This results in both qubits being in state |1⟩\n",
    "\n",
    "## Exercise 4: Creating a Bell State\n",
    "\n",
    "A Bell state is a maximally entangled quantum state of two qubits. The most common Bell state (Φ+) can be created by applying a Hadamard gate to the first qubit followed by a CNOT gate.\n",
    "\n",
    "**Task**: Create a Bell state circuit and analyze the measurement outcomes."
   ]
  },
  {
   "cell_type": "code",
   "execution_count": null,
   "id": "fdc60adb",
   "metadata": {},
   "outputs": [],
   "source": [
    "# YOUR CODE HERE: Create a quantum circuit with 2 qubits and 2 classical bits\n",
    "\n",
    "\n",
    "# YOUR CODE HERE: Apply a Hadamard gate to the first qubit\n",
    "\n",
    "\n",
    "# YOUR CODE HERE: Apply a CNOT gate with qubit 0 as control and qubit 1 as target\n",
    "\n",
    "\n",
    "# YOUR CODE HERE: Add measurements for both qubits\n",
    "\n",
    "\n",
    "# YOUR CODE HERE: Visualize the circuit\n",
    "\n",
    "\n",
    "# YOUR CODE HERE: Run the circuit on the simulator and get the results (1000 shots)\n",
    "\n",
    "\n",
    "# YOUR CODE HERE: Print the results and plot the histogram"
   ]
  },
  {
   "cell_type": "markdown",
   "id": "44924044",
   "metadata": {},
   "source": [
    "### Understanding Bell States\n",
    "\n",
    "The Bell state you've created is represented mathematically as:\n",
    "\n",
    "$$|\\Phi^+\\rangle = \\frac{1}{\\sqrt{2}}(|00\\rangle + |11\\rangle)$$\n",
    "\n",
    "This means the two qubits are in a superposition of being both 0 and both 1, with equal probability. When you measure this state, you should only get results |00⟩ or |11⟩, each with approximately 50% probability.\n",
    "\n",
    "This perfect correlation between the qubits, regardless of which result you get, is a signature of quantum entanglement.\n",
    "\n",
    "## Exercise 5: Creating Different Bell States\n",
    "\n",
    "There are four maximally entangled Bell states:\n",
    "\n",
    "1. $|\\Phi^+\\rangle = \\frac{1}{\\sqrt{2}}(|00\\rangle + |11\\rangle)$ - The one we just created\n",
    "2. $|\\Phi^-\\rangle = \\frac{1}{\\sqrt{2}}(|00\\rangle - |11\\rangle)$\n",
    "3. $|\\Psi^+\\rangle = \\frac{1}{\\sqrt{2}}(|01\\rangle + |10\\rangle)$\n",
    "4. $|\\Psi^-\\rangle = \\frac{1}{\\sqrt{2}}(|01\\rangle - |10\\rangle)$\n",
    "\n",
    "**Task**: Create a circuit to generate the $|\\Psi^+\\rangle$ Bell state, which should result in measurements of either |01⟩ or |10⟩."
   ]
  },
  {
   "cell_type": "code",
   "execution_count": null,
   "id": "6ab6d9ea",
   "metadata": {},
   "outputs": [],
   "source": [
    "# YOUR CODE HERE: Create a quantum circuit for the Ψ+ Bell state\n",
    "\n",
    "# Hint: Start with the basic Bell state circuit, then add an X gate to one of the qubits before measurement\n",
    "\n",
    "\n",
    "# YOUR CODE HERE: Run the circuit and display the results"
   ]
  },
  {
   "cell_type": "markdown",
   "id": "8ee545c0",
   "metadata": {},
   "source": [
    "### Understanding the Results\n",
    "\n",
    "In the $|\\Psi^+\\rangle$ Bell state, the measurement results should show approximately equal probabilities for states |01⟩ and |10⟩, with little or no occurrences of |00⟩ or |11⟩.\n",
    "\n",
    "## Exercise 6: Bell State Transformation\n",
    "\n",
    "**Task**: Start with the $|\\Phi^+\\rangle$ Bell state. Apply an X gate to the second qubit after creating the Bell state but before measurement. Predict what the measurement outcomes will be, then verify your prediction by running the circuit."
   ]
  },
  {
   "cell_type": "code",
   "execution_count": null,
   "id": "0b517d57",
   "metadata": {},
   "outputs": [],
   "source": [
    "# YOUR CODE HERE: Create the Φ+ Bell state as in Exercise 4\n",
    "\n",
    "\n",
    "# YOUR CODE HERE: Apply an X gate to the second qubit\n",
    "\n",
    "\n",
    "# YOUR CODE HERE: Add measurements, visualize, run the circuit, and display results"
   ]
  },
  {
   "cell_type": "markdown",
   "id": "ca1c3c19",
   "metadata": {},
   "source": [
    "**Question**: What Bell state did you create by applying the X gate to the second qubit of the $|\\Phi^+\\rangle$ state? Write your answer below."
   ]
  },
  {
   "cell_type": "markdown",
   "id": "cb7af073",
   "metadata": {},
   "source": [
    "**Your Answer**:\n"
   ]
  },
  {
   "cell_type": "markdown",
   "id": "f56dce34",
   "metadata": {},
   "source": [
    "## Challenge Exercise: GHZ State\n",
    "\n",
    "The Greenberger-Horne-Zeilinger (GHZ) state is a multi-qubit entangled state that extends the concept of Bell states to three or more qubits.\n",
    "\n",
    "**Task**: Create a 3-qubit GHZ state, which should be in the superposition $\\frac{1}{\\sqrt{2}}(|000\\rangle + |111\\rangle)$."
   ]
  },
  {
   "cell_type": "code",
   "execution_count": null,
   "id": "4d3e3fc0",
   "metadata": {},
   "outputs": [],
   "source": [
    "# YOUR CODE HERE: Create a quantum circuit with 3 qubits and 3 classical bits\n",
    "\n",
    "\n",
    "# YOUR CODE HERE: Apply gates to create the GHZ state\n",
    "# Hint: Start with a Hadamard on the first qubit, then use CNOT gates to entangle it with the other qubits\n",
    "\n",
    "\n",
    "# YOUR CODE HERE: Add measurements, visualize, run the circuit, and display results"
   ]
  },
  {
   "cell_type": "markdown",
   "id": "9ecc7493",
   "metadata": {},
   "source": [
    "### Understanding the GHZ State\n",
    "\n",
    "The GHZ state demonstrates entanglement among three qubits. When measured, you should only observe the states |000⟩ and |111⟩, each with approximately 50% probability. This indicates that all three qubits are perfectly correlated.\n",
    "\n",
    "## Reflection Questions\n",
    "\n",
    "1. Why is the CNOT gate important in quantum computing?\n",
    "2. How would you explain quantum entanglement to someone who is not familiar with quantum mechanics?\n",
    "3. What happens to the Bell state if you measure only one of the qubits?\n",
    "4. How does the number of possible entangled states increase with the number of qubits?\n",
    "5. What applications do Bell states have in quantum computing and quantum information?\n",
    "\n",
    "## Summary\n",
    "\n",
    "Congratulations! In this lab, you have:\n",
    "- Implemented and understood the CNOT gate\n",
    "- Created and measured Bell states\n",
    "- Observed quantum entanglement\n",
    "- Extended your understanding to more complex entangled states (GHZ state)\n",
    "\n",
    "These concepts are fundamental to quantum computing and form the basis for many quantum algorithms and protocols, including quantum teleportation, superdense coding, and quantum error correction."
   ]
  }
 ],
 "metadata": {
  "kernelspec": {
   "display_name": "base",
   "language": "python",
   "name": "python3"
  },
  "language_info": {
   "name": "python",
   "version": "3.12.7"
  }
 },
 "nbformat": 4,
 "nbformat_minor": 5
}
