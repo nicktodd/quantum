{
 "cells": [
  {
   "cell_type": "markdown",
   "id": "6bc1bfbf",
   "metadata": {},
   "source": [
    "# Lab 04: Quantum Noise and Decoherence\n",
    "\n",
    "In this lab, you will explore the effects of noise and decoherence on quantum circuits. Unlike classical computers, quantum computers are extremely sensitive to environmental interactions, which can lead to errors. Understanding these noise effects is crucial for developing error mitigation strategies and quantum error correction techniques.\n",
    "\n",
    "## Learning Objectives\n",
    "After completing this lab, you should be able to:\n",
    "1. Understand different types of quantum noise models\n",
    "2. Implement and simulate noisy quantum circuits\n",
    "3. Visualize the effects of noise on the Bloch sphere\n",
    "4. Measure the impact of noise on quantum algorithm performance\n",
    "5. Apply basic error mitigation techniques\n",
    "\n",
    "## Prerequisites\n",
    "- Basic understanding of quantum circuits and gates\n",
    "- Familiarity with the Bloch sphere representation of qubits\n",
    "- Experience with quantum measurement and probabilities"
   ]
  },
  {
   "cell_type": "markdown",
   "id": "83123453",
   "metadata": {},
   "source": [
    "## Exercise 1: Setup and Environment Preparation\n",
    "\n",
    "First, let's import the necessary libraries and set up our quantum environment."
   ]
  },
  {
   "cell_type": "code",
   "execution_count": null,
   "id": "e8a7cad2",
   "metadata": {},
   "outputs": [],
   "source": [
    "# Import necessary libraries\n",
    "from qiskit import QuantumCircuit, transpile\n",
    "from qiskit_aer import Aer\n",
    "from qiskit.visualization import plot_histogram, plot_bloch_multivector, plot_bloch_vector\n",
    "from qiskit.quantum_info import Statevector\n",
    "from qiskit_aer.noise import NoiseModel, pauli_error, depolarizing_error\n",
    "from qiskit.quantum_info import state_fidelity\n",
    "\n",
    "import numpy as np\n",
    "import matplotlib.pyplot as plt\n",
    "from mpl_toolkits.mplot3d import Axes3D\n",
    "\n",
    "# Enable inline plotting\n",
    "%matplotlib inline"
   ]
  },
  {
   "cell_type": "markdown",
   "id": "ad9595fa",
   "metadata": {},
   "source": [
    "## Exercise 2: Simulating a Perfect vs. Noisy Quantum Circuit\n",
    "\n",
    "Let's start by comparing the behavior of a simple quantum circuit with and without noise. This will help us understand the basic impact of noise on measurement results.\n",
    "\n",
    "**Task**: Create a simple quantum circuit that prepares a qubit in the |0⟩ state and then measures it. Run the circuit on both a perfect simulator and a noisy simulator, and compare the results."
   ]
  },
  {
   "cell_type": "code",
   "execution_count": null,
   "id": "82923fc9",
   "metadata": {},
   "outputs": [],
   "source": [
    "# YOUR CODE HERE: Create a quantum circuit with one qubit and one classical bit\n",
    "\n",
    "# YOUR CODE HERE: Add a measurement operation\n",
    "\n",
    "# YOUR CODE HERE: Draw the circuit\n",
    "\n",
    "# Run on a perfect simulator\n",
    "# YOUR CODE HERE: Run the circuit on a perfect simulator with 1000 shots\n",
    "\n",
    "# Create a custom noise model\n",
    "# YOUR CODE HERE: Create a noise model with bit-flip error on measurements\n",
    "# The error probability should be 5% (0.05)\n",
    "\n",
    "# Run with the noise model\n",
    "# YOUR CODE HERE: Run the circuit with the noise model\n",
    "\n",
    "# Display and compare the results\n",
    "# YOUR CODE HERE: Plot and analyze results from both simulations"
   ]
  },
  {
   "cell_type": "markdown",
   "id": "607b148b",
   "metadata": {},
   "source": [
    "### Understanding Bit-Flip Noise\n",
    "\n",
    "In the noise model you created above, you used a Pauli-X error to model bit-flip noise. Let's understand what this means:\n",
    "\n",
    "1. **Bit-Flip Noise**: This type of noise randomly flips the state of a qubit from |0⟩ to |1⟩ or vice versa.\n",
    "   - Mathematically represented by applying a Pauli-X gate with some probability\n",
    "   - The notation `pauli_error([('X', 0.05), ('I', 0.95)])` means:\n",
    "     - With 5% probability: Apply Pauli-X gate (bit flip)\n",
    "     - With 95% probability: Apply Identity operation (no change)\n",
    "\n",
    "2. **Real-World Causes of Bit-Flip Errors**:\n",
    "   - Environmental noise affecting qubit state\n",
    "   - Imperfect control pulses during gate operations\n",
    "   - Readout errors during measurement\n",
    "\n",
    "## Exercise 3: Noise Effects on Superposition\n",
    "\n",
    "Now, let's see how noise affects quantum circuits that involve superposition.\n",
    "\n",
    "**Task**: Create a circuit that applies a Hadamard gate to put a qubit into superposition, then measures it. Compare the results with and without noise."
   ]
  },
  {
   "cell_type": "code",
   "execution_count": null,
   "id": "9336cbe8",
   "metadata": {},
   "outputs": [],
   "source": [
    "# YOUR CODE HERE: Create a circuit with Hadamard gate and measurement\n",
    "\n",
    "# YOUR CODE HERE: Draw the circuit\n",
    "\n",
    "# Create a noise model with both bit-flip and depolarizing noise\n",
    "# YOUR CODE HERE: Create a noise model with:\n",
    "# - 5% bit-flip error on measurements\n",
    "# - 2% depolarizing error on single-qubit gates\n",
    "\n",
    "# Run on perfect and noisy simulators\n",
    "# YOUR CODE HERE: Run on both simulators and compare results\n",
    "\n",
    "# Display and compare the results\n",
    "\n",
    "# Analyze how far the noisy results deviate from the ideal 50-50 split\n",
    "# YOUR CODE HERE: Calculate and print probability analysis"
   ]
  },
  {
   "cell_type": "markdown",
   "id": "d0ca8a0a",
   "metadata": {},
   "source": [
    "### Understanding Depolarizing Noise\n",
    "\n",
    "In your enhanced noise model, you added depolarizing error to single-qubit gates. Let's understand what this means:\n",
    "\n",
    "1. **Depolarizing Noise**: This type of noise randomly transforms a qubit's state toward the maximally mixed state (the center of the Bloch sphere).\n",
    "   - With probability p: The qubit is replaced with a completely mixed state\n",
    "   - With probability (1-p): The qubit remains unchanged\n",
    "\n",
    "2. **Mathematical Representation**: A depolarizing channel with probability p can be described as:\n",
    "   - With probability (1-p): The qubit state remains unchanged\n",
    "   - With probability p/3: The X gate is applied\n",
    "   - With probability p/3: The Y gate is applied\n",
    "   - With probability p/3: The Z gate is applied\n",
    "\n",
    "3. **Visual Effect**: On the Bloch sphere, depolarizing noise causes the state vector to shrink toward the center.\n",
    "\n",
    "## Exercise 4: Visualizing Depolarizing Noise on the Bloch Sphere\n",
    "\n",
    "Let's visualize how depolarizing noise affects quantum states on the Bloch sphere.\n",
    "\n",
    "**Task**: Create a function to apply depolarizing noise to a quantum state and visualize the effect on the Bloch sphere."
   ]
  },
  {
   "cell_type": "code",
   "execution_count": null,
   "id": "4546ebc1",
   "metadata": {},
   "outputs": [],
   "source": [
    "# YOUR CODE HERE: Define a function to apply depolarizing noise\n",
    "def apply_depolarizing_noise(initial_state, noise_strength):\n",
    "    \"\"\"\n",
    "    Apply depolarizing noise to a quantum state\n",
    "    \n",
    "    Args:\n",
    "        initial_state: Initial quantum state vector [x, y, z]\n",
    "        noise_strength: Value between 0 and 1 indicating noise strength\n",
    "        \n",
    "    Returns:\n",
    "        Noisy state vector [x', y', z']\n",
    "    \"\"\"\n",
    "    # YOUR CODE HERE: Implement the function\n",
    "    pass\n",
    "\n",
    "# YOUR CODE HERE: Choose an initial state to visualize\n",
    "# For example, the |+⟩ state: [1, 0, 0]\n",
    "\n",
    "# YOUR CODE HERE: Apply noise at different strengths and visualize"
   ]
  },
  {
   "cell_type": "markdown",
   "id": "9833e046",
   "metadata": {},
   "source": [
    "## Exercise 5: Phase-Flip Noise\n",
    "\n",
    "In addition to bit-flip and depolarizing noise, another important type of quantum noise is phase-flip noise, which randomly changes the phase of a qubit.\n",
    "\n",
    "**Task**: Create a noise model with phase-flip errors and observe its effect on a superposition state."
   ]
  },
  {
   "cell_type": "code",
   "execution_count": null,
   "id": "4426bfef",
   "metadata": {},
   "outputs": [],
   "source": [
    "# YOUR CODE HERE: Create a noise model with phase-flip errors\n",
    "\n",
    "# Create a circuit to test phase-flip noise\n",
    "# The circuit should create a superposition, then apply the noise,\n",
    "# then apply another Hadamard to convert phase difference to bit difference\n",
    "# YOUR CODE HERE: Create and run the circuit\n",
    "\n",
    "# Run with phase-flip noise\n",
    "\n",
    "# Compare with a circuit without noise\n",
    "# YOUR CODE HERE: Run the same circuit without noise and compare\n",
    "\n",
    "# Display the results"
   ]
  },
  {
   "cell_type": "markdown",
   "id": "80600423",
   "metadata": {},
   "source": [
    "### Understanding Phase-Flip Noise\n",
    "\n",
    "1. **Phase-Flip Noise**: This type of noise randomly changes the phase of a qubit.\n",
    "   - Mathematically represented by applying a Pauli-Z gate with some probability\n",
    "   - The notation `pauli_error([('Z', 0.05), ('I', 0.95)])` means:\n",
    "     - With 5% probability: Apply Pauli-Z gate (phase flip)\n",
    "     - With 95% probability: Apply Identity operation (no change)\n",
    "\n",
    "2. **Effect on Superposition**: Phase-flip noise is particularly damaging to quantum algorithms because it disrupts the phase relationships that are crucial for quantum interference.\n",
    "\n",
    "3. **Detection**: Phase-flip errors can't be detected by direct measurement in the computational basis. We need to convert phase information to bit information (e.g., by applying a Hadamard gate) before measurement.\n",
    "\n",
    "## Exercise 6: Noise Effects on a Bell State\n",
    "\n",
    "Now let's see how noise affects entangled states, which are even more sensitive to noise than single-qubit states.\n",
    "\n",
    "**Task**: Create a circuit that prepares a Bell state, and observe how different types of noise affect the entanglement."
   ]
  },
  {
   "cell_type": "code",
   "execution_count": null,
   "id": "ecb5cda3",
   "metadata": {},
   "outputs": [],
   "source": [
    "# YOUR CODE HERE: Create a circuit that prepares a Bell state\n",
    "\n",
    "# YOUR CODE HERE: Draw the circuit\n",
    "\n",
    "# Create different noise models\n",
    "# YOUR CODE HERE: Create noise models with bit-flip, phase-flip, and depolarizing noise\n",
    "\n",
    "# 1. Bit-flip noise model\n",
    "\n",
    "# 2. Phase-flip noise model\n",
    "\n",
    "# 3. Depolarizing noise model\n",
    "\n",
    "# Run the Bell state circuit with different noise models\n",
    "# YOUR CODE HERE: Run simulations and compare results\n",
    "\n",
    "# Display the results"
   ]
  },
  {
   "cell_type": "markdown",
   "id": "4a2de884",
   "metadata": {},
   "source": [
    "### Understanding Noise Effects on Entanglement\n",
    "\n",
    "Entangled states like Bell states are particularly sensitive to noise for several reasons:\n",
    "\n",
    "1. **Non-local Effects**: Noise affecting just one qubit of an entangled pair can affect the joint state of both qubits.\n",
    "\n",
    "2. **Decoherence**: Noise causes quantum states to lose their coherence, which is essential for maintaining entanglement.\n",
    "\n",
    "3. **Measurement Statistics**: In a perfect Bell state, the measurement outcomes of the two qubits should be perfectly correlated. Noise disrupts this correlation.\n",
    "\n",
    "## Exercise 7: Error Mitigation with Repetition\n",
    "\n",
    "One simple approach to mitigating quantum errors is to run the circuit multiple times and take the average result. This can help reduce the impact of random noise.\n",
    "\n",
    "**Task**: Implement a simple error mitigation technique by running a noisy circuit multiple times and comparing the average result with the ideal result."
   ]
  },
  {
   "cell_type": "code",
   "execution_count": null,
   "id": "b49e50cf",
   "metadata": {},
   "outputs": [],
   "source": [
    "# YOUR CODE HERE: Create a circuit for testing error mitigation\n",
    "\n",
    "# YOUR CODE HERE: Create a noise model\n",
    "\n",
    "# Run the circuit once with noise\n",
    "# YOUR CODE HERE: Run the circuit once with 1000 shots\n",
    "\n",
    "# Run the circuit multiple times with noise and average the results\n",
    "# YOUR CODE HERE: Run the circuit 10 times with 100 shots each, then average\n",
    "\n",
    "# Compare the results\n",
    "# YOUR CODE HERE: Compare single-run results, averaged results, and ideal results"
   ]
  },
  {
   "cell_type": "markdown",
   "id": "bed5a273",
   "metadata": {},
   "source": [
    "## Reflection Questions\n",
    "\n",
    "1. How do bit-flip and phase-flip errors differ in terms of their effect on quantum states?\n",
    "\n",
    "2. Why is quantum error correction more challenging than classical error correction?\n",
    "\n",
    "3. How does depolarizing noise affect the Bloch sphere representation of a qubit?\n",
    "\n",
    "4. Why might entangled states be more sensitive to noise than non-entangled states?\n",
    "\n",
    "5. Can you think of any applications where quantum noise might actually be useful?\n",
    "\n",
    "## Summary\n",
    "\n",
    "In this lab, you have explored:\n",
    "- Different types of quantum noise models (bit-flip, phase-flip, depolarizing)\n",
    "- The effects of noise on single-qubit and multi-qubit circuits\n",
    "- Visualization of noise effects on the Bloch sphere\n",
    "- Basic error mitigation techniques\n",
    "\n",
    "Understanding quantum noise and decoherence is crucial for the development of practical quantum computers. As quantum systems scale up, error correction and mitigation strategies become increasingly important for running reliable quantum algorithms."
   ]
  }
 ],
 "metadata": {
  "kernelspec": {
   "display_name": "base",
   "language": "python",
   "name": "python3"
  },
  "language_info": {
   "name": "python",
   "version": "3.12.7"
  }
 },
 "nbformat": 4,
 "nbformat_minor": 5
}
