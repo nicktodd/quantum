{
 "cells": [
  {
   "cell_type": "markdown",
   "id": "6ade2c2a",
   "metadata": {},
   "source": [
    "# Lab 03: Pauli Gates and Gate Comparisons\n",
    "\n",
    "In this lab, you will explore the fundamental quantum gates known as the Pauli gates (X, Y, Z) and compare their behavior with their controlled versions. You will visualize their effects on the Bloch sphere and analyze their impact on quantum states through measurement.\n",
    "\n",
    "## Learning Objectives\n",
    "After completing this lab, you should be able to:\n",
    "1. Understand the effect of each Pauli gate (X, Y, Z) on a qubit\n",
    "2. Visualize quantum states on the Bloch sphere\n",
    "3. Compare normal gates with their controlled versions\n",
    "4. Identify which gates cause bit flips versus phase flips\n",
    "5. Apply these gates in practical quantum circuits\n",
    "\n",
    "## Prerequisites\n",
    "- Basic understanding of quantum gates (especially Hadamard gate)\n",
    "- Familiarity with quantum measurement\n",
    "- Experience with the Bloch sphere representation of qubits"
   ]
  },
  {
   "cell_type": "markdown",
   "id": "ff3505c7",
   "metadata": {},
   "source": [
    "## Exercise 1: Setup and Environment Preparation\n",
    "\n",
    "First, let's import the necessary libraries and set up our quantum environment."
   ]
  },
  {
   "cell_type": "code",
   "execution_count": null,
   "id": "ca8ba4fc",
   "metadata": {},
   "outputs": [],
   "source": [
    "# Import necessary libraries\n",
    "from qiskit import QuantumCircuit, transpile\n",
    "from qiskit_aer import Aer\n",
    "from qiskit.visualization import plot_histogram, plot_bloch_multivector\n",
    "from qiskit.quantum_info import Statevector\n",
    "import matplotlib.pyplot as plt\n",
    "\n",
    "# Enable inline plotting\n",
    "%matplotlib inline"
   ]
  },
  {
   "cell_type": "markdown",
   "id": "deea898f",
   "metadata": {},
   "source": [
    "## Exercise 2: The Pauli-X Gate (NOT Gate)\n",
    "\n",
    "The Pauli-X gate is analogous to the classical NOT gate. It flips the state of a qubit from |0⟩ to |1⟩ or from |1⟩ to |0⟩. On the Bloch sphere, it represents a 180° rotation around the X-axis.\n",
    "\n",
    "**Task**: Create a circuit that applies an X gate to a qubit and measure the result. Visualize the qubit state on the Bloch sphere before and after the X gate."
   ]
  },
  {
   "cell_type": "code",
   "execution_count": null,
   "id": "ef94788e",
   "metadata": {},
   "outputs": [],
   "source": [
    "# YOUR CODE HERE: Create a quantum circuit with one qubit\n",
    "\n",
    "\n",
    "# Create initial state and visualize on the Bloch sphere\n",
    "# YOUR CODE HERE: Create the initial state vector and visualize it\n",
    "\n",
    "\n",
    "# YOUR CODE HERE: Apply X gate to the qubit\n",
    "\n",
    "\n",
    "# YOUR CODE HERE: Create the final state vector and visualize it\n",
    "\n",
    "\n",
    "# YOUR CODE HERE: Create a circuit with measurement and run it\n"
   ]
  },
  {
   "cell_type": "markdown",
   "id": "5ecec18d",
   "metadata": {},
   "source": [
    "### Understanding the X Gate\n",
    "\n",
    "The X gate performs a bit flip operation on a qubit:\n",
    "- X|0⟩ = |1⟩\n",
    "- X|1⟩ = |0⟩\n",
    "\n",
    "This is why you should have observed that the qubit state changed from |0⟩ to |1⟩ in your circuit. On the Bloch sphere, you should have seen the state vector flip from the positive Z-axis (|0⟩) to the negative Z-axis (|1⟩).\n",
    "\n",
    "## Exercise 3: The Pauli-Z Gate (Phase Flip)\n",
    "\n",
    "The Pauli-Z gate applies a phase flip to the |1⟩ component of a qubit's state. It leaves |0⟩ unchanged but maps |1⟩ to -|1⟩. On the Bloch sphere, it represents a 180° rotation around the Z-axis.\n",
    "\n",
    "**Task 1**: Apply a Z gate to a qubit initially in the |0⟩ state. Measure and observe the results."
   ]
  },
  {
   "cell_type": "code",
   "execution_count": null,
   "id": "79ba0a0f",
   "metadata": {},
   "outputs": [],
   "source": [
    "# YOUR CODE HERE: Create a circuit with Z gate on |0⟩ and measure\n"
   ]
  },
  {
   "cell_type": "markdown",
   "id": "42e6da28",
   "metadata": {},
   "source": [
    "**Task 2**: Apply a Z gate to a qubit in superposition (apply Hadamard first). Visualize the state before and after the Z gate using the Bloch sphere, and then measure the qubit."
   ]
  },
  {
   "cell_type": "code",
   "execution_count": null,
   "id": "34c41f83",
   "metadata": {},
   "outputs": [],
   "source": [
    "# Create a superposition state using the Hadamard gate\n",
    "# YOUR CODE HERE: Create a circuit with H gate and visualize the state\n",
    "\n",
    "\n",
    "# Apply Z gate and visualize the state after Z gate\n",
    "# YOUR CODE HERE: Apply Z gate to the superposition and visualize\n",
    "\n",
    "\n",
    "# Create a circuit to demonstrate the effect of Z gate on superposition with measurement\n",
    "# YOUR CODE HERE: Create a circuit with H, Z, and measurement\n"
   ]
  },
  {
   "cell_type": "markdown",
   "id": "d1396f60",
   "metadata": {},
   "source": [
    "### Understanding the Z Gate\n",
    "\n",
    "The Z gate applies a phase flip to the |1⟩ component of a qubit's state:\n",
    "- Z|0⟩ = |0⟩ (no change)\n",
    "- Z|1⟩ = -|1⟩ (negative phase)\n",
    "\n",
    "For a qubit in the |0⟩ state, applying a Z gate has no observable effect on measurement. \n",
    "\n",
    "For a qubit in superposition (|0⟩ + |1⟩)/√2, the Z gate changes it to (|0⟩ - |1⟩)/√2. This phase change isn't directly observable through measurement (you'll still get 50% |0⟩ and 50% |1⟩), but it can be detected through interference effects. On the Bloch sphere, the state vector flips from the positive X-axis to the negative X-axis.\n",
    "\n",
    "## Exercise 4: The Pauli-Y Gate\n",
    "\n",
    "The Pauli-Y gate combines aspects of both the X and Z gates. It performs a bit flip with an additional phase change. On the Bloch sphere, it represents a 180° rotation around the Y-axis.\n",
    "\n",
    "**Task**: Apply a Y gate to a qubit initially in the |0⟩ state. Visualize the state before and after on the Bloch sphere, and then measure the qubit."
   ]
  },
  {
   "cell_type": "code",
   "execution_count": null,
   "id": "cbb01fb5",
   "metadata": {},
   "outputs": [],
   "source": [
    "# YOUR CODE HERE: Create a circuit with Y gate and visualize the state before and after\n",
    "\n",
    "\n",
    "# YOUR CODE HERE: Create a measurement circuit with Y gate\n"
   ]
  },
  {
   "cell_type": "markdown",
   "id": "5d6fb70e",
   "metadata": {},
   "source": [
    "### Understanding the Y Gate\n",
    "\n",
    "The Y gate performs a bit flip with an additional phase change:\n",
    "- Y|0⟩ = i|1⟩ (bit flip with imaginary unit i)\n",
    "- Y|1⟩ = -i|0⟩ (bit flip with negative imaginary unit -i)\n",
    "\n",
    "In terms of measurement outcomes, applying a Y gate to |0⟩ changes it to i|1⟩, which gives the same measurement result as |1⟩. However, the phase factor i is important for interference effects.\n",
    "\n",
    "## Exercise 5: Comparing the Effects of Pauli Gates on Superposition\n",
    "\n",
    "Let's compare how each Pauli gate affects a qubit in superposition.\n",
    "\n",
    "**Task**: Create three circuits, each starting with a qubit in superposition (apply Hadamard), then apply X, Y, or Z gate respectively. Visualize all states on the Bloch sphere, create measurement circuits, and compare results."
   ]
  },
  {
   "cell_type": "code",
   "execution_count": null,
   "id": "2b4ee70d",
   "metadata": {},
   "outputs": [],
   "source": [
    "# YOUR CODE HERE: Create circuits for H followed by X, Y, or Z gate\n",
    "# Create superposition with Hadamard followed by X gate\n",
    "\n",
    "\n",
    "# Create superposition with Hadamard followed by Y gate\n",
    "\n",
    "\n",
    "# Create superposition with Hadamard followed by Z gate\n",
    "\n",
    "\n",
    "# YOUR CODE HERE: Visualize all states on the Bloch sphere\n",
    "\n",
    "\n",
    "# YOUR CODE HERE: Create and run measurement circuits\n",
    "\n",
    "\n",
    "# YOUR CODE HERE: Compare and analyze results\n"
   ]
  },
  {
   "cell_type": "markdown",
   "id": "feff980b",
   "metadata": {},
   "source": [
    "### Analysis of Pauli Gates on Superposition\n",
    "\n",
    "When applied to a qubit in superposition (|0⟩ + |1⟩)/√2:\n",
    "- X gate: Converts to (|1⟩ + |0⟩)/√2, which is still an equal superposition\n",
    "- Y gate: Converts to (i|1⟩ - i|0⟩)/√2, adding phases\n",
    "- Z gate: Converts to (|0⟩ - |1⟩)/√2, flipping only the phase of |1⟩\n",
    "\n",
    "## Exercise 6: Controlled Gates - CNOT, CY, and CZ\n",
    "\n",
    "Controlled versions of the Pauli gates only apply the operation if the control qubit is in the |1⟩ state.\n",
    "\n",
    "**Task 1**: Create a circuit with a CNOT gate (controlled-X). Test two cases: control qubit in |0⟩ and control qubit in |1⟩."
   ]
  },
  {
   "cell_type": "code",
   "execution_count": null,
   "id": "3fb6a000",
   "metadata": {},
   "outputs": [],
   "source": [
    "# YOUR CODE HERE: Create a CNOT circuit with control in |0⟩\n",
    "\n",
    "\n",
    "# YOUR CODE HERE: Create a CNOT circuit with control in |1⟩\n"
   ]
  },
  {
   "cell_type": "markdown",
   "id": "3059b01e",
   "metadata": {},
   "source": [
    "**Task 2**: Create a circuit with a CZ gate (controlled-Z). Create and test four different input states: |00⟩, |01⟩, |10⟩, and |11⟩."
   ]
  },
  {
   "cell_type": "code",
   "execution_count": null,
   "id": "2198a56b",
   "metadata": {},
   "outputs": [],
   "source": [
    "# YOUR CODE HERE: Create and test CZ gate with different input states\n",
    "# Test case 1: |00⟩\n",
    "\n",
    "\n",
    "# Test case 2: |01⟩\n",
    "\n",
    "\n",
    "# Test case 3: |10⟩\n",
    "\n",
    "\n",
    "# Test case 4: |11⟩\n"
   ]
  },
  {
   "cell_type": "markdown",
   "id": "553f7588",
   "metadata": {},
   "source": [
    "### Demonstrating Phase Effects with Interference\n",
    "\n",
    "The phase effect of the CZ gate isn't directly observable through measurement. Let's demonstrate this using interference with Hadamard gates.\n",
    "\n",
    "**Task 3**: Create a circuit that demonstrates the phase effect of the CZ gate using Hadamard interference."
   ]
  },
  {
   "cell_type": "code",
   "execution_count": null,
   "id": "d4e9d9df",
   "metadata": {},
   "outputs": [],
   "source": [
    "# YOUR CODE HERE: Create circuit to demonstrate CZ phase effect with interference\n",
    "# Circuit should have H gates before and after CZ\n"
   ]
  },
  {
   "cell_type": "markdown",
   "id": "8ca93f74",
   "metadata": {},
   "source": [
    "## Exercise 7: Gate Comparison Summary\n",
    "\n",
    "**Task**: Complete the following table by filling in how each gate affects different input states. Use your circuit results as a reference.\n",
    "\n",
    "| Gate | Input: |0⟩ | Input: |1⟩ | Input: (|0⟩+|1⟩)/√2 |\n",
    "|------|--------|--------|----------------|\n",
    "| X    |        |        |                |\n",
    "| Y    |        |        |                |\n",
    "| Z    |        |        |                |\n",
    "| CX   |        |        |                |\n",
    "| CZ   |        |        |                |"
   ]
  },
  {
   "cell_type": "markdown",
   "id": "69017122",
   "metadata": {},
   "source": [
    "**Your Complete Table**:\n",
    "\n",
    "| Gate | Input: |0⟩ | Input: |1⟩ | Input: (|0⟩+|1⟩)/√2 |\n",
    "|------|--------|--------|----------------|\n",
    "| X    |        |        |                |\n",
    "| Y    |        |        |                |\n",
    "| Z    |        |        |                |\n",
    "| CX   |        |        |                |\n",
    "| CZ   |        |        |                |"
   ]
  },
  {
   "cell_type": "markdown",
   "id": "3b5b3589",
   "metadata": {},
   "source": [
    "## Challenge Exercise: Creating a Phase Oracle for Grover's Algorithm\n",
    "\n",
    "In Grover's algorithm, a phase oracle applies a phase flip (Z gate) only to specific target states. Let's create a phase oracle for a 2-qubit system that marks the |11⟩ state.\n",
    "\n",
    "**Task**: Create a phase oracle circuit that applies a phase flip only to the |11⟩ state (not to |00⟩, |01⟩, or |10⟩). Test your oracle by applying it to all possible input states and verifying the phase flip effect using Hadamard interference."
   ]
  },
  {
   "cell_type": "code",
   "execution_count": null,
   "id": "62335381",
   "metadata": {},
   "outputs": [],
   "source": [
    "# YOUR CODE HERE: Create a phase oracle for Grover's algorithm\n",
    "# Hint: You can use a CZ gate as your oracle\n",
    "\n",
    "\n",
    "# YOUR CODE HERE: Test your oracle on all possible input states\n",
    "# Hint: Create superpositions with Hadamard gates before and after your oracle\n"
   ]
  },
  {
   "cell_type": "markdown",
   "id": "41bd7cf5",
   "metadata": {},
   "source": [
    "## Reflection Questions\n",
    "\n",
    "1. What is the primary difference between bit flips (X gate) and phase flips (Z gate) in terms of their effects on measurement outcomes?\n",
    "\n",
    "2. Why can't we observe phase differences directly through a single measurement, and what technique did we use to observe them?\n",
    "\n",
    "3. How does the Y gate relate to the X and Z gates?\n",
    "\n",
    "4. In what scenarios would you choose to use a controlled gate instead of a normal gate?\n",
    "\n",
    "5. How might Pauli gates and their controlled versions be useful in quantum algorithms?\n",
    "\n",
    "## Summary\n",
    "\n",
    "In this lab, you have explored:\n",
    "- The effects of the three Pauli gates (X, Y, Z) on different qubit states\n",
    "- Visualization of quantum states on the Bloch sphere\n",
    "- Comparison between normal gates and their controlled versions\n",
    "- The distinct effects of bit flips versus phase flips\n",
    "- How to create and test a simple phase oracle for Grover's algorithm\n",
    "\n",
    "These fundamental operations form the building blocks of more complex quantum algorithms and protocols."
   ]
  }
 ],
 "metadata": {
  "language_info": {
   "name": "python"
  }
 },
 "nbformat": 4,
 "nbformat_minor": 5
}
