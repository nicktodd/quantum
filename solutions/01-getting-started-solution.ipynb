{
 "cells": [
  {
   "cell_type": "markdown",
   "id": "3d21fb05",
   "metadata": {},
   "source": [
    "# Lab 01: Getting Started with Quantum Computing (Solution)\n",
    "\n",
    "This notebook contains the solutions for the Getting Started lab exercises. You can use this as a reference to check your work or to understand the expected implementations for each task.\n",
    "\n",
    "## Learning Objectives\n",
    "After completing this lab, you should be able to:\n",
    "1. Set up a quantum computing environment with Qiskit\n",
    "2. Create simple quantum circuits\n",
    "3. Apply basic quantum gates\n",
    "4. Measure quantum states\n",
    "5. Execute quantum circuits on simulators\n",
    "6. Interpret measurement results"
   ]
  },
  {
   "cell_type": "markdown",
   "id": "352bc428",
   "metadata": {},
   "source": [
    "## Exercise 1: Setup and Environment Verification\n",
    "\n",
    "First, let's verify that your quantum computing environment is properly set up by importing the necessary libraries and checking the Qiskit version."
   ]
  },
  {
   "cell_type": "code",
   "execution_count": 1,
   "id": "b2873d4d",
   "metadata": {},
   "outputs": [
    {
     "name": "stdout",
     "output_type": "stream",
     "text": [
      "Qiskit version: 2.0.0\n"
     ]
    }
   ],
   "source": [
    "# Import the main Qiskit package\n",
    "from qiskit import QuantumCircuit, transpile\n",
    "\n",
    "# Import the Aer simulator backend\n",
    "from qiskit_aer import Aer\n",
    "\n",
    "# Import visualization tools\n",
    "from qiskit.visualization import plot_histogram\n",
    "import matplotlib.pyplot as plt\n",
    "\n",
    "# Print the installed Qiskit version\n",
    "import qiskit\n",
    "print(f\"Qiskit version: {qiskit.__version__}\")\n",
    "\n",
    "# Enable matplotlib inline plotting\n",
    "%matplotlib inline"
   ]
  },
  {
   "cell_type": "markdown",
   "id": "91e6dd3c",
   "metadata": {},
   "source": [
    "## Exercise 2: Creating Your First Quantum Circuit\n",
    "\n",
    "A quantum circuit is a sequence of quantum operations (gates) applied to a set of qubits, followed optionally by measurements.\n",
    "\n",
    "Let's create a simple quantum circuit with a single qubit and visualize it."
   ]
  },
  {
   "cell_type": "code",
   "execution_count": 2,
   "id": "ea3498f3",
   "metadata": {},
   "outputs": [
    {
     "name": "stdout",
     "output_type": "stream",
     "text": [
      "Circuit in text mode:\n",
      "   \n",
      "q: \n",
      "   \n",
      "\n",
      "Circuit visualization:\n"
     ]
    },
    {
     "data": {
      "image/png": "[encoded data removed]",
      "text/plain": [
       "<Figure size 143.647x117.056 with 1 Axes>"
      ]
     },
     "execution_count": 2,
     "metadata": {},
     "output_type": "execute_result"
    }
   ],
   "source": [
    "# Create a quantum circuit with 1 qubit\n",
    "qc = QuantumCircuit(1)\n",
    "\n",
    "# Draw the circuit in text mode\n",
    "print(\"Circuit in text mode:\")\n",
    "print(qc.draw('text'))\n",
    "\n",
    "# Draw the circuit using matplotlib\n",
    "print(\"\\nCircuit visualization:\")\n",
    "qc.draw('mpl')"
   ]
  },
  {
   "cell_type": "markdown",
   "id": "9971452f",
   "metadata": {},
   "source": [
    "### Understanding the Circuit\n",
    "\n",
    "The circuit we created has one qubit but doesn't do anything yet. The horizontal line represents the qubit's state over time, moving from left to right.\n",
    "\n",
    "By default, qubits are initialized in the state |0⟩ (pronounced \"ket zero\"), which is analogous to a classical bit in state 0.\n",
    "\n",
    "## Exercise 3: Manipulating a Qubit with Gates\n",
    "\n",
    "Now, let's apply some quantum operations (gates) to manipulate the state of our qubit.\n",
    "\n",
    "The Hadamard (H) gate is one of the most fundamental quantum gates. It puts a qubit into a superposition state, giving it equal probability of being measured as either 0 or 1."
   ]
  },
  {
   "cell_type": "code",
   "execution_count": 3,
   "id": "e40dab8f",
   "metadata": {},
   "outputs": [
    {
     "data": {
      "image/png": "[encoded data removed]",
      "text/plain": [
       "<Figure size 185.453x117.056 with 1 Axes>"
      ]
     },
     "execution_count": 3,
     "metadata": {},
     "output_type": "execute_result"
    }
   ],
   "source": [
    "# Create a quantum circuit with 1 qubit\n",
    "qc_h = QuantumCircuit(1)\n",
    "\n",
    "# Apply the Hadamard gate to the qubit\n",
    "qc_h.h(0)\n",
    "\n",
    "# Visualize the circuit\n",
    "qc_h.draw('mpl')"
   ]
  },
  {
   "cell_type": "markdown",
   "id": "39fe51da",
   "metadata": {},
   "source": [
    "## Exercise 4: Measuring a Qubit\n",
    "\n",
    "In quantum computing, measurement is the process of observing the state of a qubit, which collapses its superposition into a classical state (either 0 or 1).\n",
    "\n",
    "To record measurement results, we need classical bits in our circuit. These classical bits store the outcomes of the qubit measurements."
   ]
  },
  {
   "cell_type": "code",
   "execution_count": 4,
   "id": "f4212997",
   "metadata": {},
   "outputs": [
    {
     "data": {
      "image/png": "[encoded data removed]",
      "text/plain": [
       "<Figure size 269.064x200.667 with 1 Axes>"
      ]
     },
     "execution_count": 4,
     "metadata": {},
     "output_type": "execute_result"
    }
   ],
   "source": [
    "# Create a quantum circuit with 1 qubit and 1 classical bit\n",
    "qc_measure = QuantumCircuit(1, 1)\n",
    "\n",
    "# Apply the Hadamard gate to put the qubit in superposition\n",
    "qc_measure.h(0)\n",
    "\n",
    "# Measure the qubit and store the result in the classical bit\n",
    "qc_measure.measure(0, 0)\n",
    "\n",
    "# Visualize the circuit\n",
    "qc_measure.draw('mpl')"
   ]
  },
  {
   "cell_type": "markdown",
   "id": "811414d8",
   "metadata": {},
   "source": [
    "## Exercise 5: Executing a Quantum Circuit\n",
    "\n",
    "So far, we've only created circuit diagrams without actually running them. Now, let's execute our quantum circuit on a simulator and observe the results."
   ]
  },
  {
   "cell_type": "code",
   "execution_count": 5,
   "id": "46aa7a3d",
   "metadata": {},
   "outputs": [
    {
     "name": "stdout",
     "output_type": "stream",
     "text": [
      "Measurement results: {'1': 528, '0': 496}\n"
     ]
    },
    {
     "data": {
      "image/png": "[encoded data removed]",
      "text/plain": [
       "<Figure size 640x480 with 1 Axes>"
      ]
     },
     "execution_count": 5,
     "metadata": {},
     "output_type": "execute_result"
    }
   ],
   "source": [
    "# Define your circuit (reusing from the previous exercise or create a new one)\n",
    "circuit = QuantumCircuit(1, 1)\n",
    "circuit.h(0)      # Apply Hadamard gate\n",
    "circuit.measure(0, 0)  # Measure qubit 0 and store result in classical bit 0\n",
    "\n",
    "# Choose the simulator backend\n",
    "simulator = Aer.get_backend('qasm_simulator')\n",
    "\n",
    "# Transpile the circuit for the backend\n",
    "compiled_circuit = transpile(circuit, simulator)\n",
    "\n",
    "# Execute the circuit with 1024 shots\n",
    "job = simulator.run(compiled_circuit, shots=1024)\n",
    "\n",
    "# Get the results\n",
    "result = job.result()\n",
    "counts = result.get_counts(circuit)\n",
    "\n",
    "# Display the results\n",
    "print(\"Measurement results:\", counts)\n",
    "\n",
    "# Create a bar chart showing the distribution of measurement outcomes\n",
    "plot_histogram(counts)"
   ]
  },
  {
   "cell_type": "markdown",
   "id": "cae37e48",
   "metadata": {},
   "source": [
    "### Understanding the Results\n",
    "\n",
    "When we put a qubit in superposition using the Hadamard gate and then measure it, quantum theory predicts we should get approximately 50% |0⟩ and 50% |1⟩ outcomes.\n",
    "\n",
    "The histogram shows the distribution of measurement results. Since quantum measurement is probabilistic, you should see roughly equal counts for 0 and 1 (though there will be some statistical variation).\n",
    "\n",
    "## Exercise 6: Multi-Qubit Circuit\n",
    "\n",
    "Let's extend our knowledge to a circuit with two qubits. This will allow us to explore more interesting quantum behaviors."
   ]
  },
  {
   "cell_type": "code",
   "execution_count": 6,
   "id": "6f2b3cb5",
   "metadata": {},
   "outputs": [
    {
     "name": "stdout",
     "output_type": "stream",
     "text": [
      "Measurement results: {'11': 269, '00': 279, '01': 241, '10': 235}\n"
     ]
    },
    {
     "data": {
      "image/png": "[encoded data removed]",
      "text/plain": [
       "<Figure size 640x480 with 1 Axes>"
      ]
     },
     "execution_count": 6,
     "metadata": {},
     "output_type": "execute_result"
    }
   ],
   "source": [
    "# Create a quantum circuit with 2 qubits and 2 classical bits\n",
    "qc_2qubits = QuantumCircuit(2, 2)\n",
    "\n",
    "# Apply Hadamard gates to both qubits\n",
    "qc_2qubits.h(0)\n",
    "qc_2qubits.h(1)\n",
    "\n",
    "# Measure both qubits\n",
    "qc_2qubits.measure([0, 1], [0, 1])\n",
    "\n",
    "# Visualize the circuit\n",
    "qc_2qubits.draw('mpl')\n",
    "\n",
    "# Execute the circuit on the simulator\n",
    "simulator = Aer.get_backend('qasm_simulator')\n",
    "compiled_circuit = transpile(qc_2qubits, simulator)\n",
    "job = simulator.run(compiled_circuit, shots=1024)\n",
    "result = job.result()\n",
    "counts = result.get_counts(qc_2qubits)\n",
    "\n",
    "# Display the results\n",
    "print(\"Measurement results:\", counts)\n",
    "\n",
    "# Create a bar chart showing the distribution of measurement outcomes\n",
    "plot_histogram(counts)"
   ]
  },
  {
   "cell_type": "markdown",
   "id": "11ac8024",
   "metadata": {},
   "source": [
    "### Understanding Multi-Qubit Results\n",
    "\n",
    "With two qubits, each in superposition, we expect to see four possible measurement outcomes: 00, 01, 10, and 11, each with approximately 25% probability.\n",
    "\n",
    "This demonstrates how the number of possible states grows exponentially with the number of qubits - a key property that gives quantum computers their potential computational power.\n",
    "\n",
    "## Challenge Exercise: Creating a Bell State\n",
    "\n",
    "A Bell state is a maximally entangled quantum state of two qubits. Entanglement is a unique quantum phenomenon where qubits become correlated in such a way that the state of one qubit cannot be described independently of the other."
   ]
  },
  {
   "cell_type": "code",
   "execution_count": 7,
   "id": "e3022c2f",
   "metadata": {},
   "outputs": [
    {
     "name": "stdout",
     "output_type": "stream",
     "text": [
      "Bell state measurement results: {'11': 502, '00': 522}\n"
     ]
    },
    {
     "data": {
      "image/png": "[encoded data removed]",
      "text/plain": [
       "<Figure size 640x480 with 1 Axes>"
      ]
     },
     "execution_count": 7,
     "metadata": {},
     "output_type": "execute_result"
    }
   ],
   "source": [
    "# Create a Bell state circuit\n",
    "bell_circuit = QuantumCircuit(2, 2)\n",
    "\n",
    "# Apply Hadamard gate to the first qubit\n",
    "bell_circuit.h(0)\n",
    "\n",
    "# Apply CNOT gate (controlled-X)\n",
    "bell_circuit.cx(0, 1)\n",
    "\n",
    "# Add measurements\n",
    "bell_circuit.measure([0, 1], [0, 1])\n",
    "\n",
    "# Draw the circuit\n",
    "bell_circuit.draw('mpl')\n",
    "\n",
    "# Execute the circuit\n",
    "simulator = Aer.get_backend('qasm_simulator')\n",
    "compiled_circuit = transpile(bell_circuit, simulator)\n",
    "job = simulator.run(compiled_circuit, shots=1024)\n",
    "result = job.result()\n",
    "counts = result.get_counts(bell_circuit)\n",
    "\n",
    "# Display the results\n",
    "print(\"Bell state measurement results:\", counts)\n",
    "\n",
    "# Plot the histogram\n",
    "plot_histogram(counts)"
   ]
  },
  {
   "cell_type": "markdown",
   "id": "6210d33e",
   "metadata": {},
   "source": [
    "### Understanding Bell States\n",
    "\n",
    "In the Bell state you've created, the two qubits are entangled. If you measure the first qubit and get 0, the second qubit will also be 0. Similarly, if you measure the first qubit and get 1, the second qubit will also be 1.\n",
    "\n",
    "This perfect correlation is a signature of quantum entanglement and doesn't exist in classical systems. Your histogram should show roughly equal probabilities for states |00⟩ and |11⟩, with little or no occurrences of |01⟩ or |10⟩.\n",
    "\n",
    "## Reflection Questions\n",
    "\n",
    "1. What is the difference between a classical bit and a qubit?\n",
    "   - **Answer**: A classical bit can only be in state 0 or 1. A qubit, however, can be in state |0⟩, |1⟩, or any quantum superposition of these states, represented as α|0⟩ + β|1⟩ where α and β are complex numbers such that |α|² + |β|² = 1.\n",
    "\n",
    "2. What does the Hadamard gate do to a qubit?\n",
    "   - **Answer**: The Hadamard gate puts a qubit into an equal superposition state. If applied to |0⟩, it results in the state (|0⟩ + |1⟩)/√2, meaning the qubit has equal probability of being measured as 0 or 1.\n",
    "\n",
    "3. Why do we get probabilistic results when measuring qubits in superposition?\n",
    "   - **Answer**: According to quantum mechanics, a measurement forces the qubit to collapse from its superposition state to one of the basis states (|0⟩ or |1⟩). The probability of measuring a particular outcome is determined by the amplitudes in the superposition state. For a qubit in equal superposition, we get 0 or 1 with 50% probability each.\n",
    "\n",
    "4. How would you describe quantum entanglement based on the Bell state experiment?\n",
    "   - **Answer**: Quantum entanglement is a phenomenon where two or more qubits become correlated in such a way that the quantum state of each qubit cannot be described independently of the others. In the Bell state experiment, we observed that measuring one qubit immediately determined the state of the other, regardless of the distance between them. This demonstrates the \"spooky action at a distance\" that Einstein was concerned about in quantum mechanics.\n",
    "\n",
    "5. What surprised you most in this lab?\n",
    "   - **Answer**: Answers will vary by student, but common responses include: the probabilistic nature of quantum measurements, the ability to create superposition with just a single gate operation, the perfect correlation observed in entangled states, or how simple circuits can demonstrate fundamental quantum properties.\n",
    "\n",
    "## Summary\n",
    "\n",
    "Congratulations! In this lab, you have:\n",
    "- Created your first quantum circuits\n",
    "- Applied basic quantum gates (H, CNOT)\n",
    "- Measured qubits and analyzed the results\n",
    "- Observed fundamental quantum properties like superposition and entanglement\n",
    "\n",
    "These concepts form the foundation of quantum computing, and you'll build upon them in the upcoming labs."
   ]
  }
 ],
 "metadata": {
  "kernelspec": {
   "display_name": "base",
   "language": "python",
   "name": "python3"
  },
  "language_info": {
   "codemirror_mode": {
    "name": "ipython",
    "version": 3
   },
   "file_extension": ".py",
   "mimetype": "text/x-python",
   "name": "python",
   "nbconvert_exporter": "python",
   "pygments_lexer": "ipython3",
   "version": "3.12.7"
  }
 },
 "nbformat": 4,
 "nbformat_minor": 5
}
