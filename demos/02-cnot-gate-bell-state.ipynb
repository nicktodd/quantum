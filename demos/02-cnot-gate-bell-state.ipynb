{
 "cells": [
  {
   "cell_type": "markdown",
   "id": "afae6406",
   "metadata": {},
   "source": [
    "# The CNOT Gate and the Bell State\n",
    "\n",
    "You have already seen the Hadamard Gate which puts a single Qubit into a superposition.\n",
    "\n",
    "## CNOT Gate\n",
    "\n",
    "You will now see an example of the CNOT gate which involves two qubits\n",
    "* The control qubit\n",
    "* The target qubit\n"
   ]
  },
  {
   "cell_type": "code",
   "execution_count": 11,
   "id": "16374c7e",
   "metadata": {},
   "outputs": [
    {
     "data": {
      "image/png": "[encoded data removed]",
      "text/plain": [
       "<Figure size 203.683x200.667 with 1 Axes>"
      ]
     },
     "execution_count": 11,
     "metadata": {},
     "output_type": "execute_result"
    }
   ],
   "source": [
    "from qiskit import QuantumCircuit\n",
    "%matplotlib inline\n",
    "\n",
    "# Create a quantum circuit with 2 qubits\n",
    "qc = QuantumCircuit(2)\n",
    "# Create a controlled-NOT gate (CNOT) with qubit 0 as control and qubit 1 as target\n",
    "qc.cx(0, 1)\n",
    "qc.draw('mpl')  # Draw the circuit using matplotlib"
   ]
  },
  {
   "cell_type": "markdown",
   "id": "2000e0e9",
   "metadata": {},
   "source": [
    "## Combining Gates\n",
    "\n",
    "For anything to now happen we need the control qubit to do something. To get the control qubit to do something, we can put it through a Hadamard gate - which will put it into a superposition.\n",
    "\n",
    "### Combining the Hadamard Gate and the CNOT Gate to form the Bell State\n",
    "A combination of the hadamard gate and the CNOT gate is a great example of a slightly more sophisticated quantum circuit. When the control qubit is put into a superposition, then the target qubit will be affected due to the entanglement.\n",
    "\n",
    "This results in two qubits that are either both 0 or both 1. This is because if the control qubit is 0 then the target is 0 since it does not get flipped. However, if the control qubit is flipped to a 1, then that will trigger the target qubit to flip.\n",
    "\n",
    "This means that the only outcomes can be 0,0 or 1,1.\n",
    "\n",
    "Below is the Python code for this. This combination of gates is known as the Bell State.\n",
    "\n",
    "This type of Bell state where the values are both the same when measured is called Phi or Φ."
   ]
  },
  {
   "cell_type": "markdown",
   "id": "e663125e",
   "metadata": {},
   "source": []
  },
  {
   "cell_type": "code",
   "execution_count": 10,
   "id": "448530a9",
   "metadata": {},
   "outputs": [
    {
     "name": "stdout",
     "output_type": "stream",
     "text": [
      "\n",
      "Total count for 00 and 11 are: {'00': 478, '11': 522}\n"
     ]
    }
   ],
   "source": [
    "# Create a new circuit with 2 qubits and 2 classical bits for measurement\n",
    "qc = QuantumCircuit(2,2)\n",
    "# Apply a Hadamard gate to the first qubit to put it in superposition\n",
    "qc.h(0)\n",
    "# Apply a controlled-NOT gate again after the first qubit is in super position\n",
    "qc.cx(0, 1)\n",
    "qc.measure([0, 1], [0, 1])  # Measure both qubits\n",
    "# Draw the updated circuit\n",
    "qc.draw('mpl')\n",
    "\n",
    "# Run the circuit on a simulator\n",
    "# Import the Aer simulator backend from Qiskit's Aer module\n",
    "from qiskit_aer import Aer\n",
    "from qiskit import transpile\n",
    "\n",
    "backend = Aer.get_backend('qasm_simulator')\n",
    "# This step adapts the circuit to the constraints and format of the backend\n",
    "new_circuit = transpile(qc, backend)\n",
    "# The circuit is executed multiple times (shots) to get a distribution of outcomes\n",
    "job = backend.run(new_circuit, shots=1000)\n",
    "# Import the job result from Qiskit\n",
    "result = job.result()\n",
    "# Returns counts\n",
    "counts = result.get_counts()\n",
    "# Print the results\n",
    "print(\"\\nTotal count for 00 and 11 are:\", counts)\n"
   ]
  },
  {
   "cell_type": "markdown",
   "id": "f5a6cf48",
   "metadata": {},
   "source": [
    "## Creating a Bell State with value |01⟩ or |10⟩\n",
    "\n",
    "You can also create Bell states with the opposite values.\n",
    "\n",
    "1. Start with |00⟩\n",
    "2. Apply Hadamard to first qubit\n",
    "3. Apply CNOT with first qubit as control\n",
    "4. Apply X gate to second qubit\n",
    "\n",
    "This type of Bell state where the values are opposite when measured is called Psi or Ψ."
   ]
  },
  {
   "cell_type": "code",
   "execution_count": 16,
   "id": "7778d3b9",
   "metadata": {},
   "outputs": [
    {
     "data": {
      "image/png": "[encoded data removed]",
      "text/plain": [
       "<Figure size 538.128x284.278 with 1 Axes>"
      ]
     },
     "metadata": {},
     "output_type": "display_data"
    },
    {
     "name": "stdout",
     "output_type": "stream",
     "text": [
      "{'10': 503, '01': 497}\n"
     ]
    }
   ],
   "source": [
    "# Create a quantum circuit for the Ψ+ Bell state\n",
    "psi_plus = QuantumCircuit(2, 2)\n",
    "\n",
    "# Create the standard Φ+ Bell state first\n",
    "psi_plus.h(0)           # Apply Hadamard to first qubit\n",
    "psi_plus.cx(0, 1)       # Apply CNOT with first as control\n",
    "\n",
    "# Transform Φ+ into Ψ+ by flipping second qubit\n",
    "psi_plus.x(1)           # Apply X gate to second qubit\n",
    "\n",
    "# Measure both qubits\n",
    "psi_plus.measure([0, 1], [0, 1])\n",
    "\n",
    "# Visualize the circuit\n",
    "diagram = psi_plus.draw('mpl')\n",
    "display(diagram)\n",
    "# Run the circuit\n",
    "compiled_psi_plus = transpile(psi_plus, backend=backend)\n",
    "counts_psi_plus = backend.run(compiled_psi_plus, shots=1000).result().get_counts()\n",
    "\n",
    "# Display the results\n",
    "print(counts_psi_plus)\n"
   ]
  },
  {
   "cell_type": "markdown",
   "id": "b56eccc0",
   "metadata": {},
   "source": [
    "## Creating Different Bell States\n",
    "\n",
    "To create these different Bell states, you typically:\n",
    "\n",
    "1. Start with |00⟩\n",
    "2. Apply a Hadamard to the first qubit\n",
    "3. Apply a CNOT with the first qubit as control\n",
    "4. Apply additional gates as needed:\n",
    "\n",
    "The Z gate will be explained later - as will the +ve and -ve bell states. \n",
    "\n",
    "* $|\\Phi^+\\rangle$: No additional gates (this is what you get directly)\n",
    "\n",
    "* $|\\Phi^-\\rangle$: Apply a Z gate to the second qubit\n",
    "\n",
    "* $|\\Psi^+\\rangle$: Apply an X gate to the second qubit\n",
    "\n",
    "* $|\\Psi^-\\rangle$: Apply both X and Z gates to the second qubit"
   ]
  },
  {
   "cell_type": "markdown",
   "metadata": {},
   "source": []
  }
 ],
 "metadata": {
  "kernelspec": {
   "display_name": "base",
   "language": "python",
   "name": "python3"
  },
  "language_info": {
   "codemirror_mode": {
    "name": "ipython",
    "version": 3
   },
   "file_extension": ".py",
   "mimetype": "text/x-python",
   "name": "python",
   "nbconvert_exporter": "python",
   "pygments_lexer": "ipython3",
   "version": "3.12.7"
  }
 },
 "nbformat": 4,
 "nbformat_minor": 5
}
