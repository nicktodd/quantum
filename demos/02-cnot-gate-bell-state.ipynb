{
 "cells": [
  {
   "cell_type": "markdown",
   "id": "afae6406",
   "metadata": {},
   "source": [
    "# The CNOT Gate and the Bell State\n",
    "\n",
    "You have already seen the Hadamard Gate which puts a single Qubit into a superposition.\n",
    "\n",
    "## CNOT Gate\n",
    "\n",
    "You will now see an example of the CNOT gate which involves two qubits\n",
    "* The control qubit\n",
    "* The target qubit\n"
   ]
  },
  {
   "cell_type": "code",
   "execution_count": 5,
   "id": "16374c7e",
   "metadata": {},
   "outputs": [
    {
     "data": {
      "image/png": "[encoded data removed]",
      "text/plain": [
       "<Figure size 203.683x200.667 with 1 Axes>"
      ]
     },
     "execution_count": 5,
     "metadata": {},
     "output_type": "execute_result"
    }
   ],
   "source": [
    "from qiskit import QuantumCircuit\n",
    "\n",
    "# Create a quantum circuit with 2 qubits\n",
    "qc = QuantumCircuit(2)\n",
    "# Create a controlled-NOT gate (CNOT) with qubit 0 as control and qubit 1 as target\n",
    "qc.cx(0, 1)\n",
    "qc.draw('mpl')  # Draw the circuit using matplotlib"
   ]
  },
  {
   "cell_type": "markdown",
   "id": "2000e0e9",
   "metadata": {},
   "source": [
    "## Combining Gates\n",
    "\n",
    "For anything to now happen we need the control qubit to do something. To get the control qubit to do something, we can put it through a Hadamard gate - which will put it into a superposition.\n",
    "\n",
    "### Combining the Hadamard Gate and the CNOT Gate to form the Bell State\n",
    "A combination of the hadamard gate and the CNOT gate is a great example of a slightly more sophisticated quantum circuit. When the control qubit is put into a superposition, then the target qubit will be affected due to the entanglement.\n",
    "\n",
    "This results in two qubits that are either both 0 or both 1. This is because if the control qubit is 0 then the target is 0 since it does not get flipped. However, if the control qubit is flipped to a 1, then that will trigger the target qubit to flip.\n",
    "\n",
    "This means that the only outcomes can be 0,0 or 1,1.\n",
    "\n",
    "Below is the Python code for this. This combination of gates is known as the Bell State."
   ]
  },
  {
   "cell_type": "markdown",
   "id": "e663125e",
   "metadata": {},
   "source": []
  },
  {
   "cell_type": "code",
   "execution_count": null,
   "id": "448530a9",
   "metadata": {},
   "outputs": [
    {
     "name": "stdout",
     "output_type": "stream",
     "text": [
      "{'_metadata': {'qobj_id': '', 'metadata': {'omp_enabled': True, 'parallel_experiments': 1, 'max_memory_mb': 32669, 'max_gpu_memory_mb': 0, 'time_taken_execute': 0.0128389, 'time_taken_parameter_binding': 6.4e-06}, 'time_taken': 0.012523651123046875}, 'backend_name': 'qasm_simulator', 'backend_version': '0.17.0', 'job_id': '51d8319b-ede2-4cc2-b728-1773edc4b0da', 'success': True, 'results': [ExperimentResult(shots=1000, success=True, meas_level=2, data=ExperimentResultData(counts={'0x0': 518, '0x3': 482}), header={'creg_sizes': [['c', 2]], 'global_phase': 0.0, 'memory_slots': 2, 'n_qubits': 2, 'name': 'circuit-196', 'qreg_sizes': [['q', 2]], 'metadata': {}}, status=DONE, seed_simulator=1797061772, metadata={'batched_shots_optimization': False, 'required_memory_mb': 0, 'method': 'stabilizer', 'active_input_qubits': [0, 1], 'device': 'CPU', 'remapped_qubits': False, 'num_qubits': 2, 'num_clbits': 2, 'time_taken': 0.0128075, 'sample_measure_time': 0.0112264, 'input_qubit_map': [[0, 0], [1, 1]], 'max_memory_mb': 32669, 'measure_sampling': True, 'noise': 'ideal', 'parallel_shots': 1, 'parallel_state_update': 16, 'runtime_parameter_bind': False, 'num_bind_params': 1, 'fusion': {'enabled': False}}, time_taken=0.0128075)], 'date': '2025-06-12T12:52:27.894605', 'status': 'COMPLETED', 'header': None}\n",
      "\n",
      "Total count for 00 and 11 are: {'00': 518, '11': 482}\n"
     ]
    }
   ],
   "source": [
    "# Create a new circuit with 2 qubits and 2 classical bits for measurement\n",
    "qc = QuantumCircuit(2,2)\n",
    "# Apply a Hadamard gate to the first qubit to put it in superposition\n",
    "qc.h(0)\n",
    "# Apply a controlled-NOT gate again after the first qubit is in super position\n",
    "qc.cx(0, 1)\n",
    "qc.measure([0, 1], [0, 1])  # Measure both qubits\n",
    "# Draw the updated circuit\n",
    "qc.draw('mpl')\n",
    "\n",
    "# Run the circuit on a simulator\n",
    "# Import the Aer simulator backend from Qiskit's Aer module\n",
    "from qiskit_aer import Aer\n",
    "from qiskit import transpile\n",
    "\n",
    "backend = Aer.get_backend('qasm_simulator')\n",
    "# This step adapts the circuit to the constraints and format of the backend\n",
    "new_circuit = transpile(qc, backend)\n",
    "# The circuit is executed multiple times (shots) to get a distribution of outcomes\n",
    "job = backend.run(new_circuit, shots=1000)\n",
    "# Import the job result from Qiskit\n",
    "result = job.result()\n",
    "# Returns counts\n",
    "counts = result.get_counts()\n",
    "# Print the results\n",
    "print(\"\\nTotal count for 00 and 11 are:\", counts)\n"
   ]
  },
  {
   "cell_type": "markdown",
   "id": "f5a6cf48",
   "metadata": {},
   "source": []
  }
 ],
 "metadata": {
  "kernelspec": {
   "display_name": "base",
   "language": "python",
   "name": "python3"
  },
  "language_info": {
   "codemirror_mode": {
    "name": "ipython",
    "version": 3
   },
   "file_extension": ".py",
   "mimetype": "text/x-python",
   "name": "python",
   "nbconvert_exporter": "python",
   "pygments_lexer": "ipython3",
   "version": "3.12.7"
  }
 },
 "nbformat": 4,
 "nbformat_minor": 5
}
