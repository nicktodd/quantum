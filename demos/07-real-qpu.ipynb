{
 "cells": [
  {
   "cell_type": "markdown",
   "id": "13ec0680",
   "metadata": {},
   "source": [
    "# Running on a Real Quantum Computer\n",
    "\n",
    "For most of our exercises, we have been running our applications on a simulator.\n",
    "\n",
    "But how do we run some code on a real Quantum CPU?\n",
    "\n",
    "We will use AWS Braket to run our Quantum application.\n",
    "\n",
    "Amazon Braket does not directly support Qiskit code, so we will use the AWS Braket SDK. For our simple examples, this is not going to be a problem.\n"
   ]
  },
  {
   "cell_type": "markdown",
   "id": "84c4d1e5",
   "metadata": {},
   "source": []
  },
  {
   "cell_type": "code",
   "execution_count": 7,
   "id": "c5c7a39a",
   "metadata": {},
   "outputs": [
    {
     "name": "stdout",
     "output_type": "stream",
     "text": [
      "Counter({'11': 8, '00': 2})\n"
     ]
    }
   ],
   "source": [
    "from braket.circuits import Circuit\n",
    "from braket.aws import AwsDevice\n",
    "\n",
    "# set the aws region and profile in code\n",
    "import os\n",
    "os.environ[\"AWS_DEFAULT_REGION\"] = \"us-east-1\"  # Change to your preferred region\n",
    "os.environ[\"AWS_PROFILE\"] = \"watchelm\"  # Change to your preferred profile name\n",
    "\n",
    "# Step 1: Create a Bell state\n",
    "circuit = Circuit().h(0).cnot(0, 1).measure(0).measure(1)\n",
    "\n",
    "# Step 2: Choose a real QPU (IonQ, Rigetti, OQC, etc.)\n",
    "device = AwsDevice(\"arn:aws:braket:us-west-1::device/qpu/rigetti/Ankaa-3\")\n",
    "\n",
    "# Step 3: Run the job (this queues it on the actual QPU)\n",
    "task = device.run(circuit, shots=10)\n",
    "\n",
    "# Step 4: Wait and fetch results\n",
    "result = task.result()\n",
    "print(result.measurement_counts)\n",
    "\n",
    "# You have now used a real QPU to create and measure a Bell state!\n",
    "# Add that to your list of quantum achievements!\n"
   ]
  }
 ],
 "metadata": {
  "kernelspec": {
   "display_name": "base",
   "language": "python",
   "name": "python3"
  },
  "language_info": {
   "codemirror_mode": {
    "name": "ipython",
    "version": 3
   },
   "file_extension": ".py",
   "mimetype": "text/x-python",
   "name": "python",
   "nbconvert_exporter": "python",
   "pygments_lexer": "ipython3",
   "version": "3.12.7"
  }
 },
 "nbformat": 4,
 "nbformat_minor": 5
}
