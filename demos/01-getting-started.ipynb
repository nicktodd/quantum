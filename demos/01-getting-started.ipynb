{
 "cells": [
  {
   "cell_type": "markdown",
   "metadata": {},
   "source": [
    "# Getting Started with Quantum Computing\n",
    "\n",
    "In this notebook, we will get things going by just running a simple quantum circuit. You will need to have installed the qiskit package."
   ]
  },
  {
   "cell_type": "code",
   "execution_count": null,
   "metadata": {},
   "outputs": [
    {
     "data": {
      "text/html": [
       "<pre style=\"word-wrap: normal;white-space: pre;background: #fff0;line-height: 1.1;font-family: &quot;Courier New&quot;,Courier,monospace\">   \n",
       "q: \n",
       "   </pre>"
      ],
      "text/plain": [
       "   \n",
       "q: \n",
       "   "
      ]
     },
     "execution_count": 4,
     "metadata": {},
     "output_type": "execute_result"
    }
   ],
   "source": [
    "from qiskit import QuantumCircuit\n",
    "\n",
    "\n",
    "# Create a quantum circuit with 1 qubit\n",
    "qc = QuantumCircuit(1)\n",
    "\n",
    "# Draw the circuit\n",
    "qc.draw('text')"
   ]
  },
  {
   "cell_type": "markdown",
   "metadata": {},
   "source": [
    "## Doing something with the Qubit\n",
    "\n",
    "Now let's put the Qubit into a superposition. We can do that using a Hadamard gate.\n"
   ]
  },
  {
   "cell_type": "code",
   "execution_count": 5,
   "metadata": {},
   "outputs": [
    {
     "name": "stdout",
     "output_type": "stream",
     "text": [
      "Measurement results: {'0': 528, '1': 496}\n"
     ]
    },
    {
     "data": {
      "image/png": "[encoded data removed]",
      "text/plain": [
       "<Figure size 269.064x200.667 with 1 Axes>"
      ]
     },
     "execution_count": 5,
     "metadata": {},
     "output_type": "execute_result"
    }
   ],
   "source": [
    "# Import the Aer simulator backend from Qiskit's Aer module\n",
    "from qiskit_aer import Aer\n",
    "\n",
    "# Import QuantumCircuit to create circuits, and transpile to prepare them for execution\n",
    "from qiskit import QuantumCircuit, transpile\n",
    "\n",
    "# Step 1: Create a quantum circuit with 1 qubit and 1 classical bit for measurement\n",
    "circuit = QuantumCircuit(1, 1)\n",
    "\n",
    "# Step 2: Apply a Hadamard gate to the qubit. Note that this does not happen until you call run()\n",
    "# The circuit is really just a blueprint until you execute it\n",
    "# This puts the qubit into a superposition: equal probability of being measured as 0 or 1\n",
    "circuit.h(0)\n",
    "\n",
    "# Step 3: Measure the quantum state into the classical bit\n",
    "# This collapses the superposition to a definite 0 or 1\n",
    "# The first argument is the qubit index that you want to measure\n",
    "# The second argument is the classical bit index where the result will be stored\n",
    "circuit.measure(0, 0)\n",
    "\n",
    "# Step 4: Choose the simulator backend that mimics a real quantum computer\n",
    "backend = Aer.get_backend('qasm_simulator')\n",
    "\n",
    "# Step 5: Transpile (compile/convert) the circuit for the chosen backend\n",
    "# This step adapts the circuit to the constraints and format of the backend\n",
    "new_circuit = transpile(circuit, backend)\n",
    "\n",
    "# Step 6: Run the transpiled circuit on the simulator\n",
    "# The circuit is executed multiple times (shots) to get a distribution of outcomes\n",
    "job = backend.run(new_circuit)\n",
    "\n",
    "# Step 7: Retrieve the results of the job\n",
    "result = job.result()\n",
    "\n",
    "# Step 8: Get the counts of measurement outcomes\n",
    "# For example: {'0': 503, '1': 497} after 1000 runs\n",
    "counts = result.get_counts(circuit)\n",
    "print(\"Measurement results:\", counts)\n",
    "\n",
    "# Step 9: Draw the circuit visually (using matplotlib)\n",
    "# Shows the H gate and measurement in a standard diagram\n",
    "circuit.draw('mpl')"
   ]
  },
  {
   "cell_type": "code",
   "execution_count": null,
   "metadata": {},
   "outputs": [],
   "source": []
  },
  {
   "cell_type": "code",
   "execution_count": null,
   "metadata": {},
   "outputs": [],
   "source": []
  }
 ],
 "metadata": {
  "kernelspec": {
   "display_name": "base",
   "language": "python",
   "name": "python3"
  },
  "language_info": {
   "codemirror_mode": {
    "name": "ipython",
    "version": 3
   },
   "file_extension": ".py",
   "mimetype": "text/x-python",
   "name": "python",
   "nbconvert_exporter": "python",
   "pygments_lexer": "ipython3",
   "version": "3.12.7"
  }
 },
 "nbformat": 4,
 "nbformat_minor": 4
}
