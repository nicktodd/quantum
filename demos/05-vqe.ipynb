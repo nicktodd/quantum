{
 "cells": [
  {
   "cell_type": "markdown",
   "id": "071ff696",
   "metadata": {},
   "source": [
    "# Variational Quantum Eigensolver (VQE) Algorithm\n",
    "\n",
    "The Variational Quantum Eigensolver (VQE) is a hybrid quantum-classical algorithm designed to find the ground state energy of a molecule or a Hamiltonian system. It's one of the most promising algorithms for near-term quantum computers due to its ability to work with noisy, limited-resource quantum hardware.\n",
    "\n",
    "## How VQE Works\n",
    "\n",
    "1. **Prepare a parameterized quantum state**: Create a quantum circuit with adjustable parameters\n",
    "2. **Measure the energy**: Use the quantum computer to measure the expectation value of the Hamiltonian\n",
    "3. **Update parameters**: Use a classical optimizer to find parameters that minimize the energy\n",
    "4. **Iterate**: Repeat until convergence\n",
    "\n",
    "In this notebook, we'll implement VQE to find the ground state energy of a simple Hamiltonian using Qiskit 2.\n",
    "\n"
   ]
  },
  {
   "cell_type": "code",
   "execution_count": 4,
   "id": "bd0da135",
   "metadata": {},
   "outputs": [],
   "source": [
    "# Import required libraries\n",
    "import numpy as np\n",
    "from qiskit import QuantumCircuit\n",
    "from qiskit_aer import AerSimulator\n",
    "from qiskit.quantum_info import SparsePauliOp\n",
    "\n",
    "# For visualization\n",
    "import matplotlib.pyplot as plt\n",
    "%matplotlib inline"
   ]
  },
  {
   "cell_type": "markdown",
   "id": "7e208239",
   "metadata": {},
   "source": [
    "## Creating a Hamiltonian\n",
    "\n",
    "The Hamiltonian is the energy operator of our system. For this example, we'll use a simple 2-qubit Hamiltonian that represents the interactions in a toy molecular system. In Qiskit 2, we can represent this using `SparsePauliOp`."
   ]
  },
  {
   "cell_type": "code",
   "execution_count": 5,
   "id": "b359c8be",
   "metadata": {},
   "outputs": [
    {
     "name": "stdout",
     "output_type": "stream",
     "text": [
      "Hamiltonian:\n",
      "SparsePauliOp(['ZI', 'IZ', 'XX'],\n",
      "              coeffs=[1. +0.j, 1. +0.j, 0.5+0.j])\n"
     ]
    }
   ],
   "source": [
    "# Define a simple 2-qubit Hamiltonian\n",
    "# H = Z₀⊗I₁ + I₀⊗Z₁ + 0.5 X₀⊗X₁\n",
    "# This represents a simplified Ising model\n",
    "\n",
    "# Create the Hamiltonian using SparsePauliOp\n",
    "hamiltonian = SparsePauliOp(\n",
    "    ['ZI', 'IZ', 'XX'],  # Pauli strings\n",
    "    [1.0, 1.0, 0.5]      # Coefficients\n",
    ")\n",
    "\n",
    "print(\"Hamiltonian:\")\n",
    "print(hamiltonian)"
   ]
  },
  {
   "cell_type": "markdown",
   "id": "40feb85d",
   "metadata": {},
   "source": [
    "## Variational Form (Ansatz)\n",
    "\n",
    "The ansatz is a parameterized quantum circuit that prepares a trial state. The goal is to find the parameters that minimize the energy. We'll use a simple ansatz with rotation gates and entangling operations."
   ]
  },
  {
   "cell_type": "code",
   "execution_count": 6,
   "id": "9ad6e8e9",
   "metadata": {},
   "outputs": [
    {
     "name": "stdout",
     "output_type": "stream",
     "text": [
      "Sample ansatz circuit:\n",
      "     ┌─────────┐┌─────────┐     ┌─────────┐\n",
      "q_0: ┤ Rx(0.1) ├┤ Ry(0.2) ├──■──┤ Rx(0.5) ├\n",
      "     ├─────────┤├─────────┤┌─┴─┐├─────────┤\n",
      "q_1: ┤ Rx(0.3) ├┤ Ry(0.4) ├┤ X ├┤ Rx(0.6) ├\n",
      "     └─────────┘└─────────┘└───┘└─────────┘\n"
     ]
    }
   ],
   "source": [
    "# Create a parameterized ansatz with rotation gates and entanglement\n",
    "def create_ansatz(parameters):\n",
    "    \"\"\"Create a parameterized quantum circuit.\n",
    "    \n",
    "    Args:\n",
    "        parameters (list): List of 6 parameters for the circuit\n",
    "    \n",
    "    Returns:\n",
    "        QuantumCircuit: The parameterized quantum circuit\n",
    "    \"\"\"\n",
    "    qc = QuantumCircuit(2)\n",
    "    \n",
    "    # First layer of rotations\n",
    "    qc.rx(parameters[0], 0)\n",
    "    qc.ry(parameters[1], 0)\n",
    "    qc.rx(parameters[2], 1)\n",
    "    qc.ry(parameters[3], 1)\n",
    "    \n",
    "    # Entangling layer\n",
    "    qc.cx(0, 1)\n",
    "    \n",
    "    # Second layer of rotations\n",
    "    qc.rx(parameters[4], 0)\n",
    "    qc.rx(parameters[5], 1)\n",
    "    \n",
    "    return qc\n",
    "\n",
    "# Visualize the ansatz with some random parameters\n",
    "initial_params = [0.1, 0.2, 0.3, 0.4, 0.5, 0.6]\n",
    "ansatz = create_ansatz(initial_params)\n",
    "print(\"Sample ansatz circuit:\")\n",
    "print(ansatz.draw())"
   ]
  },
  {
   "cell_type": "markdown",
   "id": "016f3a08",
   "metadata": {},
   "source": [
    "## Energy Calculation\n",
    "\n",
    "For each set of parameters, we need to calculate the expectation value of the Hamiltonian. This is done by preparing the state defined by our ansatz and measuring the energy using our Hamiltonian."
   ]
  },
  {
   "cell_type": "code",
   "execution_count": 8,
   "id": "dff85cd6",
   "metadata": {},
   "outputs": [
    {
     "name": "stdout",
     "output_type": "stream",
     "text": [
      "Energy with initial parameters: 1.482304\n"
     ]
    }
   ],
   "source": [
    "# Function to calculate the expectation value of the Hamiltonian\n",
    "def calculate_energy(parameters):\n",
    "    \"\"\"Calculate the expectation value of the Hamiltonian for given parameters.\n",
    "    \n",
    "    Args:\n",
    "        parameters (list): Ansatz parameters\n",
    "    \n",
    "    Returns:\n",
    "        float: Expected energy\n",
    "    \"\"\"\n",
    "    # Create the ansatz circuit with current parameters\n",
    "    qc = create_ansatz(parameters)\n",
    "    \n",
    "    # Configure the simulator to return the statevector\n",
    "    simulator = AerSimulator(method='statevector')\n",
    "    \n",
    "    # Save the statevector state\n",
    "    qc.save_statevector()\n",
    "    \n",
    "    # Run the circuit and get the statevector\n",
    "    job = simulator.run(qc)\n",
    "    result = job.result()\n",
    "    \n",
    "    # Get the statevector from the result\n",
    "    state = result.get_statevector()\n",
    "    \n",
    "    # Calculate the expectation value of the Hamiltonian\n",
    "    energy = state.expectation_value(hamiltonian).real\n",
    "    \n",
    "    return energy\n",
    "\n",
    "# Test the energy calculation with initial parameters\n",
    "energy = calculate_energy(initial_params)\n",
    "print(f\"Energy with initial parameters: {energy:.6f}\")"
   ]
  },
  {
   "cell_type": "markdown",
   "id": "b3a8c637",
   "metadata": {},
   "source": [
    "## Classical Optimization\n",
    "\n",
    "Now we'll use a classical optimizer to find the parameters that minimize the energy. We'll use the COBYLA optimizer from scipy, which is a gradient-free optimization method."
   ]
  },
  {
   "cell_type": "code",
   "execution_count": 9,
   "id": "6ea2697e",
   "metadata": {},
   "outputs": [
    {
     "name": "stdout",
     "output_type": "stream",
     "text": [
      "Starting optimization...\n",
      "Iteration 5: Energy = -0.191608\n",
      "Iteration 10: Energy = -0.529871\n",
      "Iteration 15: Energy = -1.824972\n",
      "Iteration 20: Energy = -1.897136\n",
      "Iteration 25: Energy = -1.917181\n",
      "Iteration 30: Energy = -2.044816\n",
      "Iteration 35: Energy = -2.044973\n",
      "Iteration 40: Energy = -2.056614\n",
      "Iteration 45: Energy = -2.060697\n",
      "Iteration 50: Energy = -2.060958\n",
      "Iteration 55: Energy = -2.061336\n",
      "Iteration 60: Energy = -2.061413\n",
      "Iteration 65: Energy = -2.061514\n",
      "Iteration 70: Energy = -2.061489\n",
      "Iteration 75: Energy = -2.061540\n",
      "Iteration 80: Energy = -2.061531\n",
      "Iteration 85: Energy = -2.061551\n",
      "Iteration 90: Energy = -2.061551\n",
      "Iteration 95: Energy = -2.061551\n",
      "Iteration 100: Energy = -2.061552\n",
      "\n",
      "Optimization complete!\n",
      "Final energy: -2.061553\n",
      "Optimal parameters: [3.14141806 2.89651386 4.71260179 5.23372333 3.14166897 4.7118925 ]\n"
     ]
    }
   ],
   "source": [
    "# Perform the optimization using scipy's minimize function\n",
    "from scipy.optimize import minimize\n",
    "\n",
    "# Function to minimize\n",
    "def objective_function(parameters):\n",
    "    return calculate_energy(parameters)\n",
    "\n",
    "# Initial parameters\n",
    "initial_params = np.random.random(6) * 2 * np.pi\n",
    "\n",
    "# Keep track of energy values during optimization\n",
    "energy_values = []\n",
    "\n",
    "# Callback function to track optimization progress\n",
    "def callback(params):\n",
    "    energy = objective_function(params)\n",
    "    energy_values.append(energy)\n",
    "    if len(energy_values) % 5 == 0:  # Print every 5 iterations\n",
    "        print(f\"Iteration {len(energy_values)}: Energy = {energy:.6f}\")\n",
    "\n",
    "# Run the optimizer\n",
    "print(\"Starting optimization...\")\n",
    "result = minimize(\n",
    "    objective_function,\n",
    "    initial_params,\n",
    "    method='COBYLA',\n",
    "    callback=callback,\n",
    "    options={'maxiter': 100}\n",
    ")\n",
    "\n",
    "# Print results\n",
    "print(\"\\nOptimization complete!\")\n",
    "print(f\"Final energy: {result.fun:.6f}\")\n",
    "print(f\"Optimal parameters: {result.x}\")"
   ]
  },
  {
   "cell_type": "markdown",
   "id": "88d8bfc5",
   "metadata": {},
   "source": [
    "## Results Visualization\n",
    "\n",
    "Let's visualize the convergence of the energy during the optimization process."
   ]
  },
  {
   "cell_type": "code",
   "execution_count": 10,
   "id": "a8665b01",
   "metadata": {},
   "outputs": [
    {
     "data": {
      "image/png": "[encoded data removed]",
      "text/plain": [
       "<Figure size 1000x600 with 1 Axes>"
      ]
     },
     "metadata": {},
     "output_type": "display_data"
    }
   ],
   "source": [
    "# Plot the energy convergence\n",
    "plt.figure(figsize=(10, 6))\n",
    "plt.plot(energy_values, 'o-')\n",
    "plt.xlabel('Iteration')\n",
    "plt.ylabel('Energy')\n",
    "plt.title('VQE Energy Convergence')\n",
    "plt.grid(True)\n",
    "plt.show()"
   ]
  },
  {
   "cell_type": "markdown",
   "id": "1c2605ce",
   "metadata": {},
   "source": [
    "## Final Optimized Circuit\n",
    "\n",
    "Let's visualize the circuit with the optimized parameters and calculate the probabilities of measuring different states."
   ]
  },
  {
   "cell_type": "code",
   "execution_count": null,
   "id": "d32a30a8",
   "metadata": {},
   "outputs": [],
   "source": [
    "# Create and display the final circuit with optimized parameters\n",
    "final_circuit = create_ansatz(result.x)\n",
    "print(\"Final optimized circuit:\")\n",
    "print(final_circuit.draw())\n",
    "\n",
    "# Add measurements to get the state probabilities\n",
    "final_circuit_with_measure = create_ansatz(result.x)\n",
    "final_circuit_with_measure.measure_all()\n",
    "\n",
    "# Run the circuit\n",
    "simulator = AerSimulator()\n",
    "result_counts = simulator.run(final_circuit_with_measure, shots=1000).result().get_counts()\n",
    "\n",
    "# Display the results\n",
    "print(\"\\nState probabilities from 1000 measurements:\")\n",
    "for state, counts in result_counts.items():\n",
    "    print(f\"State |{state}>: {counts/1000:.4f} probability\")\n",
    "\n",
    "# Plot the histogram\n",
    "plt.figure(figsize=(10, 6))\n",
    "states = result_counts.keys()\n",
    "probabilities = [result_counts[state]/1000 for state in states]\n",
    "plt.bar(states, probabilities)\n",
    "plt.xlabel('State')\n",
    "plt.ylabel('Probability')\n",
    "plt.title('Measurement Probabilities of the Ground State')\n",
    "plt.ylim(0, 1)\n",
    "plt.show()"
   ]
  },
  {
   "cell_type": "markdown",
   "id": "4eef2cee",
   "metadata": {},
   "source": [
    "## Conclusion\n",
    "\n",
    "In this notebook, we've implemented the VQE algorithm to find the ground state energy of a simple 2-qubit Hamiltonian. The key steps included:\n",
    "\n",
    "1. Defining a Hamiltonian representing our system\n",
    "2. Creating a parameterized quantum circuit (ansatz)\n",
    "3. Calculating the energy expectation value for a given set of parameters\n",
    "4. Using classical optimization to find the parameters that minimize the energy\n",
    "5. Analyzing and visualizing the results\n",
    "\n",
    "VQE is particularly important for quantum chemistry applications, where it can be used to calculate molecular properties more efficiently than classical methods for complex molecules. As quantum hardware improves, VQE can be applied to increasingly complex systems."
   ]
  },
  {
   "cell_type": "markdown",
   "id": "abd22972",
   "metadata": {},
   "source": [
    "## References\n",
    "\n",
    "1. Peruzzo, A. et al. (2014). A variational eigenvalue solver on a photonic quantum processor. Nature Communications, 5, 4213.\n",
    "2. [Qiskit Documentation on VQE](https://qiskit.org/documentation/tutorials/algorithms/03_vqe.html)\n",
    "3. McArdle, S. et al. (2020). Quantum computational chemistry. Reviews of Modern Physics, 92(1), 015003."
   ]
  }
 ],
 "metadata": {
  "kernelspec": {
   "display_name": "base",
   "language": "python",
   "name": "python3"
  },
  "language_info": {
   "codemirror_mode": {
    "name": "ipython",
    "version": 3
   },
   "file_extension": ".py",
   "mimetype": "text/x-python",
   "name": "python",
   "nbconvert_exporter": "python",
   "pygments_lexer": "ipython3",
   "version": "3.12.7"
  }
 },
 "nbformat": 4,
 "nbformat_minor": 5
}
